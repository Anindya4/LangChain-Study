{
 "cells": [
  {
   "cell_type": "markdown",
   "id": "0cdba741",
   "metadata": {},
   "source": [
    "## Installing dependencies"
   ]
  },
  {
   "cell_type": "code",
   "execution_count": 1,
   "id": "6298748d",
   "metadata": {},
   "outputs": [
    {
     "name": "stdout",
     "output_type": "stream",
     "text": [
      "Requirement already satisfied: langchain in d:\\programing\\langchain\\my_env\\lib\\site-packages (0.3.27)\n",
      "Requirement already satisfied: chromadb in d:\\programing\\langchain\\my_env\\lib\\site-packages (1.1.1)\n",
      "Requirement already satisfied: openai in d:\\programing\\langchain\\my_env\\lib\\site-packages (1.107.0)\n",
      "Requirement already satisfied: tiktoken in d:\\programing\\langchain\\my_env\\lib\\site-packages (0.11.0)\n",
      "Requirement already satisfied: pypdf in d:\\programing\\langchain\\my_env\\lib\\site-packages (6.1.1)\n",
      "Requirement already satisfied: langchain_openai in d:\\programing\\langchain\\my_env\\lib\\site-packages (0.3.32)\n",
      "Requirement already satisfied: langchain-community in d:\\programing\\langchain\\my_env\\lib\\site-packages (0.3.31)\n",
      "Requirement already satisfied: langchain-core<1.0.0,>=0.3.72 in d:\\programing\\langchain\\my_env\\lib\\site-packages (from langchain) (0.3.79)\n",
      "Requirement already satisfied: langchain-text-splitters<1.0.0,>=0.3.9 in d:\\programing\\langchain\\my_env\\lib\\site-packages (from langchain) (0.3.11)\n",
      "Requirement already satisfied: langsmith>=0.1.17 in d:\\programing\\langchain\\my_env\\lib\\site-packages (from langchain) (0.4.27)\n",
      "Requirement already satisfied: pydantic<3.0.0,>=2.7.4 in d:\\programing\\langchain\\my_env\\lib\\site-packages (from langchain) (2.11.7)\n",
      "Requirement already satisfied: SQLAlchemy<3,>=1.4 in d:\\programing\\langchain\\my_env\\lib\\site-packages (from langchain) (2.0.43)\n",
      "Requirement already satisfied: requests<3,>=2 in d:\\programing\\langchain\\my_env\\lib\\site-packages (from langchain) (2.32.5)\n",
      "Requirement already satisfied: PyYAML>=5.3 in d:\\programing\\langchain\\my_env\\lib\\site-packages (from langchain) (6.0.2)\n",
      "Requirement already satisfied: tenacity!=8.4.0,<10.0.0,>=8.1.0 in d:\\programing\\langchain\\my_env\\lib\\site-packages (from langchain-core<1.0.0,>=0.3.72->langchain) (9.1.2)\n",
      "Requirement already satisfied: jsonpatch<2.0.0,>=1.33.0 in d:\\programing\\langchain\\my_env\\lib\\site-packages (from langchain-core<1.0.0,>=0.3.72->langchain) (1.33)\n",
      "Requirement already satisfied: typing-extensions<5.0.0,>=4.7.0 in d:\\programing\\langchain\\my_env\\lib\\site-packages (from langchain-core<1.0.0,>=0.3.72->langchain) (4.15.0)\n",
      "Requirement already satisfied: packaging<26.0.0,>=23.2.0 in d:\\programing\\langchain\\my_env\\lib\\site-packages (from langchain-core<1.0.0,>=0.3.72->langchain) (25.0)\n",
      "Requirement already satisfied: jsonpointer>=1.9 in d:\\programing\\langchain\\my_env\\lib\\site-packages (from jsonpatch<2.0.0,>=1.33.0->langchain-core<1.0.0,>=0.3.72->langchain) (3.0.0)\n",
      "Requirement already satisfied: httpx<1,>=0.23.0 in d:\\programing\\langchain\\my_env\\lib\\site-packages (from langsmith>=0.1.17->langchain) (0.28.1)\n",
      "Requirement already satisfied: orjson>=3.9.14 in d:\\programing\\langchain\\my_env\\lib\\site-packages (from langsmith>=0.1.17->langchain) (3.11.3)\n",
      "Requirement already satisfied: requests-toolbelt>=1.0.0 in d:\\programing\\langchain\\my_env\\lib\\site-packages (from langsmith>=0.1.17->langchain) (1.0.0)\n",
      "Requirement already satisfied: zstandard>=0.23.0 in d:\\programing\\langchain\\my_env\\lib\\site-packages (from langsmith>=0.1.17->langchain) (0.24.0)\n",
      "Requirement already satisfied: anyio in d:\\programing\\langchain\\my_env\\lib\\site-packages (from httpx<1,>=0.23.0->langsmith>=0.1.17->langchain) (4.10.0)\n",
      "Requirement already satisfied: certifi in d:\\programing\\langchain\\my_env\\lib\\site-packages (from httpx<1,>=0.23.0->langsmith>=0.1.17->langchain) (2025.8.3)\n",
      "Requirement already satisfied: httpcore==1.* in d:\\programing\\langchain\\my_env\\lib\\site-packages (from httpx<1,>=0.23.0->langsmith>=0.1.17->langchain) (1.0.9)\n",
      "Requirement already satisfied: idna in d:\\programing\\langchain\\my_env\\lib\\site-packages (from httpx<1,>=0.23.0->langsmith>=0.1.17->langchain) (3.10)\n",
      "Requirement already satisfied: h11>=0.16 in d:\\programing\\langchain\\my_env\\lib\\site-packages (from httpcore==1.*->httpx<1,>=0.23.0->langsmith>=0.1.17->langchain) (0.16.0)\n",
      "Requirement already satisfied: annotated-types>=0.6.0 in d:\\programing\\langchain\\my_env\\lib\\site-packages (from pydantic<3.0.0,>=2.7.4->langchain) (0.7.0)\n",
      "Requirement already satisfied: pydantic-core==2.33.2 in d:\\programing\\langchain\\my_env\\lib\\site-packages (from pydantic<3.0.0,>=2.7.4->langchain) (2.33.2)\n",
      "Requirement already satisfied: typing-inspection>=0.4.0 in d:\\programing\\langchain\\my_env\\lib\\site-packages (from pydantic<3.0.0,>=2.7.4->langchain) (0.4.1)\n",
      "Requirement already satisfied: charset_normalizer<4,>=2 in d:\\programing\\langchain\\my_env\\lib\\site-packages (from requests<3,>=2->langchain) (3.4.3)\n",
      "Requirement already satisfied: urllib3<3,>=1.21.1 in d:\\programing\\langchain\\my_env\\lib\\site-packages (from requests<3,>=2->langchain) (2.3.0)\n",
      "Requirement already satisfied: greenlet>=1 in d:\\programing\\langchain\\my_env\\lib\\site-packages (from SQLAlchemy<3,>=1.4->langchain) (3.2.4)\n",
      "Requirement already satisfied: build>=1.0.3 in d:\\programing\\langchain\\my_env\\lib\\site-packages (from chromadb) (1.3.0)\n",
      "Requirement already satisfied: pybase64>=1.4.1 in d:\\programing\\langchain\\my_env\\lib\\site-packages (from chromadb) (1.4.2)\n",
      "Requirement already satisfied: uvicorn>=0.18.3 in d:\\programing\\langchain\\my_env\\lib\\site-packages (from uvicorn[standard]>=0.18.3->chromadb) (0.37.0)\n",
      "Requirement already satisfied: numpy>=1.22.5 in d:\\programing\\langchain\\my_env\\lib\\site-packages (from chromadb) (2.3.3)\n",
      "Requirement already satisfied: posthog<6.0.0,>=2.4.0 in d:\\programing\\langchain\\my_env\\lib\\site-packages (from chromadb) (5.4.0)\n",
      "Requirement already satisfied: onnxruntime>=1.14.1 in d:\\programing\\langchain\\my_env\\lib\\site-packages (from chromadb) (1.23.1)\n",
      "Requirement already satisfied: opentelemetry-api>=1.2.0 in d:\\programing\\langchain\\my_env\\lib\\site-packages (from chromadb) (1.37.0)\n",
      "Requirement already satisfied: opentelemetry-exporter-otlp-proto-grpc>=1.2.0 in d:\\programing\\langchain\\my_env\\lib\\site-packages (from chromadb) (1.37.0)\n",
      "Requirement already satisfied: opentelemetry-sdk>=1.2.0 in d:\\programing\\langchain\\my_env\\lib\\site-packages (from chromadb) (1.37.0)\n",
      "Requirement already satisfied: tokenizers>=0.13.2 in d:\\programing\\langchain\\my_env\\lib\\site-packages (from chromadb) (0.22.0)\n",
      "Requirement already satisfied: pypika>=0.48.9 in d:\\programing\\langchain\\my_env\\lib\\site-packages (from chromadb) (0.48.9)\n",
      "Requirement already satisfied: tqdm>=4.65.0 in d:\\programing\\langchain\\my_env\\lib\\site-packages (from chromadb) (4.67.1)\n",
      "Requirement already satisfied: overrides>=7.3.1 in d:\\programing\\langchain\\my_env\\lib\\site-packages (from chromadb) (7.7.0)\n",
      "Requirement already satisfied: importlib-resources in d:\\programing\\langchain\\my_env\\lib\\site-packages (from chromadb) (6.5.2)\n",
      "Requirement already satisfied: grpcio>=1.58.0 in d:\\programing\\langchain\\my_env\\lib\\site-packages (from chromadb) (1.74.0)\n",
      "Requirement already satisfied: bcrypt>=4.0.1 in d:\\programing\\langchain\\my_env\\lib\\site-packages (from chromadb) (5.0.0)\n",
      "Requirement already satisfied: typer>=0.9.0 in d:\\programing\\langchain\\my_env\\lib\\site-packages (from chromadb) (0.19.2)\n",
      "Requirement already satisfied: kubernetes>=28.1.0 in d:\\programing\\langchain\\my_env\\lib\\site-packages (from chromadb) (34.1.0)\n",
      "Requirement already satisfied: mmh3>=4.0.1 in d:\\programing\\langchain\\my_env\\lib\\site-packages (from chromadb) (5.2.0)\n",
      "Requirement already satisfied: rich>=10.11.0 in d:\\programing\\langchain\\my_env\\lib\\site-packages (from chromadb) (14.2.0)\n",
      "Requirement already satisfied: jsonschema>=4.19.0 in d:\\programing\\langchain\\my_env\\lib\\site-packages (from chromadb) (4.25.1)\n",
      "Requirement already satisfied: six>=1.5 in d:\\programing\\langchain\\my_env\\lib\\site-packages (from posthog<6.0.0,>=2.4.0->chromadb) (1.17.0)\n",
      "Requirement already satisfied: python-dateutil>=2.2 in d:\\programing\\langchain\\my_env\\lib\\site-packages (from posthog<6.0.0,>=2.4.0->chromadb) (2.9.0.post0)\n",
      "Requirement already satisfied: backoff>=1.10.0 in d:\\programing\\langchain\\my_env\\lib\\site-packages (from posthog<6.0.0,>=2.4.0->chromadb) (2.2.1)\n",
      "Requirement already satisfied: distro>=1.5.0 in d:\\programing\\langchain\\my_env\\lib\\site-packages (from posthog<6.0.0,>=2.4.0->chromadb) (1.9.0)\n",
      "Requirement already satisfied: jiter<1,>=0.4.0 in d:\\programing\\langchain\\my_env\\lib\\site-packages (from openai) (0.10.0)\n",
      "Requirement already satisfied: sniffio in d:\\programing\\langchain\\my_env\\lib\\site-packages (from openai) (1.3.1)\n",
      "Requirement already satisfied: regex>=2022.1.18 in d:\\programing\\langchain\\my_env\\lib\\site-packages (from tiktoken) (2025.9.1)\n",
      "Requirement already satisfied: aiohttp<4.0.0,>=3.8.3 in d:\\programing\\langchain\\my_env\\lib\\site-packages (from langchain-community) (3.13.0)\n",
      "Requirement already satisfied: dataclasses-json<0.7.0,>=0.6.7 in d:\\programing\\langchain\\my_env\\lib\\site-packages (from langchain-community) (0.6.7)\n",
      "Requirement already satisfied: pydantic-settings<3.0.0,>=2.10.1 in d:\\programing\\langchain\\my_env\\lib\\site-packages (from langchain-community) (2.11.0)\n",
      "Requirement already satisfied: httpx-sse<1.0.0,>=0.4.0 in d:\\programing\\langchain\\my_env\\lib\\site-packages (from langchain-community) (0.4.3)\n",
      "Requirement already satisfied: aiohappyeyeballs>=2.5.0 in d:\\programing\\langchain\\my_env\\lib\\site-packages (from aiohttp<4.0.0,>=3.8.3->langchain-community) (2.6.1)\n",
      "Requirement already satisfied: aiosignal>=1.4.0 in d:\\programing\\langchain\\my_env\\lib\\site-packages (from aiohttp<4.0.0,>=3.8.3->langchain-community) (1.4.0)\n",
      "Requirement already satisfied: attrs>=17.3.0 in d:\\programing\\langchain\\my_env\\lib\\site-packages (from aiohttp<4.0.0,>=3.8.3->langchain-community) (25.3.0)\n",
      "Requirement already satisfied: frozenlist>=1.1.1 in d:\\programing\\langchain\\my_env\\lib\\site-packages (from aiohttp<4.0.0,>=3.8.3->langchain-community) (1.8.0)\n",
      "Requirement already satisfied: multidict<7.0,>=4.5 in d:\\programing\\langchain\\my_env\\lib\\site-packages (from aiohttp<4.0.0,>=3.8.3->langchain-community) (6.7.0)\n",
      "Requirement already satisfied: propcache>=0.2.0 in d:\\programing\\langchain\\my_env\\lib\\site-packages (from aiohttp<4.0.0,>=3.8.3->langchain-community) (0.4.1)\n",
      "Requirement already satisfied: yarl<2.0,>=1.17.0 in d:\\programing\\langchain\\my_env\\lib\\site-packages (from aiohttp<4.0.0,>=3.8.3->langchain-community) (1.22.0)\n",
      "Requirement already satisfied: marshmallow<4.0.0,>=3.18.0 in d:\\programing\\langchain\\my_env\\lib\\site-packages (from dataclasses-json<0.7.0,>=0.6.7->langchain-community) (3.26.1)\n",
      "Requirement already satisfied: typing-inspect<1,>=0.4.0 in d:\\programing\\langchain\\my_env\\lib\\site-packages (from dataclasses-json<0.7.0,>=0.6.7->langchain-community) (0.9.0)\n",
      "Requirement already satisfied: python-dotenv>=0.21.0 in d:\\programing\\langchain\\my_env\\lib\\site-packages (from pydantic-settings<3.0.0,>=2.10.1->langchain-community) (1.1.1)\n",
      "Requirement already satisfied: mypy-extensions>=0.3.0 in d:\\programing\\langchain\\my_env\\lib\\site-packages (from typing-inspect<1,>=0.4.0->dataclasses-json<0.7.0,>=0.6.7->langchain-community) (1.1.0)\n",
      "Requirement already satisfied: pyproject_hooks in d:\\programing\\langchain\\my_env\\lib\\site-packages (from build>=1.0.3->chromadb) (1.2.0)\n",
      "Requirement already satisfied: colorama in d:\\programing\\langchain\\my_env\\lib\\site-packages (from build>=1.0.3->chromadb) (0.4.6)\n",
      "Requirement already satisfied: jsonschema-specifications>=2023.03.6 in d:\\programing\\langchain\\my_env\\lib\\site-packages (from jsonschema>=4.19.0->chromadb) (2025.9.1)\n",
      "Requirement already satisfied: referencing>=0.28.4 in d:\\programing\\langchain\\my_env\\lib\\site-packages (from jsonschema>=4.19.0->chromadb) (0.36.2)\n",
      "Requirement already satisfied: rpds-py>=0.7.1 in d:\\programing\\langchain\\my_env\\lib\\site-packages (from jsonschema>=4.19.0->chromadb) (0.27.1)\n",
      "Requirement already satisfied: google-auth>=1.0.1 in d:\\programing\\langchain\\my_env\\lib\\site-packages (from kubernetes>=28.1.0->chromadb) (2.40.3)\n",
      "Requirement already satisfied: websocket-client!=0.40.0,!=0.41.*,!=0.42.*,>=0.32.0 in d:\\programing\\langchain\\my_env\\lib\\site-packages (from kubernetes>=28.1.0->chromadb) (1.9.0)\n",
      "Requirement already satisfied: requests-oauthlib in d:\\programing\\langchain\\my_env\\lib\\site-packages (from kubernetes>=28.1.0->chromadb) (2.0.0)\n",
      "Requirement already satisfied: durationpy>=0.7 in d:\\programing\\langchain\\my_env\\lib\\site-packages (from kubernetes>=28.1.0->chromadb) (0.10)\n",
      "Requirement already satisfied: cachetools<6.0,>=2.0.0 in d:\\programing\\langchain\\my_env\\lib\\site-packages (from google-auth>=1.0.1->kubernetes>=28.1.0->chromadb) (5.5.2)\n",
      "Requirement already satisfied: pyasn1-modules>=0.2.1 in d:\\programing\\langchain\\my_env\\lib\\site-packages (from google-auth>=1.0.1->kubernetes>=28.1.0->chromadb) (0.4.2)\n",
      "Requirement already satisfied: rsa<5,>=3.1.4 in d:\\programing\\langchain\\my_env\\lib\\site-packages (from google-auth>=1.0.1->kubernetes>=28.1.0->chromadb) (4.9.1)\n",
      "Requirement already satisfied: pyasn1>=0.1.3 in d:\\programing\\langchain\\my_env\\lib\\site-packages (from rsa<5,>=3.1.4->google-auth>=1.0.1->kubernetes>=28.1.0->chromadb) (0.6.1)\n",
      "Requirement already satisfied: coloredlogs in d:\\programing\\langchain\\my_env\\lib\\site-packages (from onnxruntime>=1.14.1->chromadb) (15.0.1)\n",
      "Requirement already satisfied: flatbuffers in d:\\programing\\langchain\\my_env\\lib\\site-packages (from onnxruntime>=1.14.1->chromadb) (25.9.23)\n",
      "Requirement already satisfied: protobuf in d:\\programing\\langchain\\my_env\\lib\\site-packages (from onnxruntime>=1.14.1->chromadb) (5.29.5)\n",
      "Requirement already satisfied: sympy in d:\\programing\\langchain\\my_env\\lib\\site-packages (from onnxruntime>=1.14.1->chromadb) (1.14.0)\n",
      "Requirement already satisfied: importlib-metadata<8.8.0,>=6.0 in d:\\programing\\langchain\\my_env\\lib\\site-packages (from opentelemetry-api>=1.2.0->chromadb) (8.7.0)\n",
      "Requirement already satisfied: zipp>=3.20 in d:\\programing\\langchain\\my_env\\lib\\site-packages (from importlib-metadata<8.8.0,>=6.0->opentelemetry-api>=1.2.0->chromadb) (3.23.0)\n",
      "Requirement already satisfied: googleapis-common-protos~=1.57 in d:\\programing\\langchain\\my_env\\lib\\site-packages (from opentelemetry-exporter-otlp-proto-grpc>=1.2.0->chromadb) (1.70.0)\n",
      "Requirement already satisfied: opentelemetry-exporter-otlp-proto-common==1.37.0 in d:\\programing\\langchain\\my_env\\lib\\site-packages (from opentelemetry-exporter-otlp-proto-grpc>=1.2.0->chromadb) (1.37.0)\n",
      "Requirement already satisfied: opentelemetry-proto==1.37.0 in d:\\programing\\langchain\\my_env\\lib\\site-packages (from opentelemetry-exporter-otlp-proto-grpc>=1.2.0->chromadb) (1.37.0)\n",
      "Requirement already satisfied: opentelemetry-semantic-conventions==0.58b0 in d:\\programing\\langchain\\my_env\\lib\\site-packages (from opentelemetry-sdk>=1.2.0->chromadb) (0.58b0)\n",
      "Requirement already satisfied: markdown-it-py>=2.2.0 in d:\\programing\\langchain\\my_env\\lib\\site-packages (from rich>=10.11.0->chromadb) (4.0.0)\n",
      "Requirement already satisfied: pygments<3.0.0,>=2.13.0 in d:\\programing\\langchain\\my_env\\lib\\site-packages (from rich>=10.11.0->chromadb) (2.19.2)\n",
      "Requirement already satisfied: mdurl~=0.1 in d:\\programing\\langchain\\my_env\\lib\\site-packages (from markdown-it-py>=2.2.0->rich>=10.11.0->chromadb) (0.1.2)\n",
      "Requirement already satisfied: huggingface-hub<1.0,>=0.16.4 in d:\\programing\\langchain\\my_env\\lib\\site-packages (from tokenizers>=0.13.2->chromadb) (0.34.4)\n",
      "Requirement already satisfied: filelock in d:\\programing\\langchain\\my_env\\lib\\site-packages (from huggingface-hub<1.0,>=0.16.4->tokenizers>=0.13.2->chromadb) (3.19.1)\n",
      "Requirement already satisfied: fsspec>=2023.5.0 in d:\\programing\\langchain\\my_env\\lib\\site-packages (from huggingface-hub<1.0,>=0.16.4->tokenizers>=0.13.2->chromadb) (2025.9.0)\n",
      "Requirement already satisfied: click>=8.0.0 in d:\\programing\\langchain\\my_env\\lib\\site-packages (from typer>=0.9.0->chromadb) (8.2.1)\n",
      "Requirement already satisfied: shellingham>=1.3.0 in d:\\programing\\langchain\\my_env\\lib\\site-packages (from typer>=0.9.0->chromadb) (1.5.4)\n",
      "Requirement already satisfied: httptools>=0.6.3 in d:\\programing\\langchain\\my_env\\lib\\site-packages (from uvicorn[standard]>=0.18.3->chromadb) (0.7.1)\n",
      "Requirement already satisfied: watchfiles>=0.13 in d:\\programing\\langchain\\my_env\\lib\\site-packages (from uvicorn[standard]>=0.18.3->chromadb) (1.1.0)\n",
      "Requirement already satisfied: websockets>=10.4 in d:\\programing\\langchain\\my_env\\lib\\site-packages (from uvicorn[standard]>=0.18.3->chromadb) (15.0.1)\n",
      "Requirement already satisfied: humanfriendly>=9.1 in d:\\programing\\langchain\\my_env\\lib\\site-packages (from coloredlogs->onnxruntime>=1.14.1->chromadb) (10.0)\n",
      "Requirement already satisfied: pyreadline3 in d:\\programing\\langchain\\my_env\\lib\\site-packages (from humanfriendly>=9.1->coloredlogs->onnxruntime>=1.14.1->chromadb) (3.5.4)\n",
      "Requirement already satisfied: oauthlib>=3.0.0 in d:\\programing\\langchain\\my_env\\lib\\site-packages (from requests-oauthlib->kubernetes>=28.1.0->chromadb) (3.3.1)\n",
      "Requirement already satisfied: mpmath<1.4,>=1.1.0 in d:\\programing\\langchain\\my_env\\lib\\site-packages (from sympy->onnxruntime>=1.14.1->chromadb) (1.3.0)\n",
      "Note: you may need to restart the kernel to use updated packages.\n"
     ]
    }
   ],
   "source": [
    "%pip install langchain chromadb openai tiktoken pypdf langchain_openai langchain-community"
   ]
  },
  {
   "cell_type": "markdown",
   "id": "a4767eae",
   "metadata": {},
   "source": [
    "## Importing libraries"
   ]
  },
  {
   "cell_type": "code",
   "execution_count": 2,
   "id": "f12afec4",
   "metadata": {},
   "outputs": [
    {
     "name": "stderr",
     "output_type": "stream",
     "text": [
      "d:\\Programing\\LangChain\\my_env\\Lib\\site-packages\\tqdm\\auto.py:21: TqdmWarning: IProgress not found. Please update jupyter and ipywidgets. See https://ipywidgets.readthedocs.io/en/stable/user_install.html\n",
      "  from .autonotebook import tqdm as notebook_tqdm\n"
     ]
    }
   ],
   "source": [
    "from langchain_openai import OpenAIEmbeddings\n",
    "from langchain_chroma import Chroma"
   ]
  },
  {
   "cell_type": "markdown",
   "id": "7c532f11",
   "metadata": {},
   "source": [
    "## Creating document object"
   ]
  },
  {
   "cell_type": "code",
   "execution_count": 3,
   "id": "1441bebd",
   "metadata": {},
   "outputs": [],
   "source": [
    "from langchain.schema import Document\n",
    "\n",
    "# making some dummy object:\n",
    "doc1 = Document(\n",
    "    page_content=\"Elon Musk is the CEO of SpaceX and Tesla, known for revolutionizing the electric vehicle industry and advancing reusable rocket technology. His work has significantly influenced modern space exploration.\",\n",
    "    metadata={\"domain\": \"Technology & Space\"}\n",
    ")\n",
    "\n",
    "doc2 = Document(\n",
    "    page_content=\"Marie Curie was a pioneering physicist and chemist who discovered radium and polonium. She was the first woman to win a Nobel Prize and remains an icon for women in science.\",\n",
    "    metadata={\"domain\": \"Science & Research\"}\n",
    ")\n",
    "\n",
    "doc3 = Document(\n",
    "    page_content=\"The Renaissance was a period of great cultural and artistic revival in Europe between the 14th and 17th centuries. It gave rise to legendary artists like Leonardo da Vinci and Michelangelo.\",\n",
    "    metadata={\"domain\": \"History & Art\"}\n",
    ")\n",
    "\n",
    "doc4 = Document(\n",
    "    page_content=\"Artificial Intelligence is transforming industries through machine learning, computer vision, and natural language processing. It enables automation, predictive analytics, and personalized digital experiences.\",\n",
    "    metadata={\"domain\": \"Artificial Intelligence\"}\n",
    ")\n",
    "\n",
    "doc5 = Document(\n",
    "    page_content=\"Climate change refers to long-term shifts in global temperatures and weather patterns, primarily caused by human activities such as burning fossil fuels and deforestation.\",\n",
    "    metadata={\"domain\": \"Environment & Sustainability\"}\n",
    ")\n"
   ]
  },
  {
   "cell_type": "code",
   "execution_count": 4,
   "id": "206535f6",
   "metadata": {},
   "outputs": [],
   "source": [
    "docs = [doc1, doc2, doc3, doc4, doc5]"
   ]
  },
  {
   "cell_type": "markdown",
   "id": "d0e7a13e",
   "metadata": {},
   "source": [
    "## Creating the vector store obj"
   ]
  },
  {
   "cell_type": "code",
   "execution_count": null,
   "id": "e50e94cd",
   "metadata": {},
   "outputs": [
    {
     "data": {
      "text/plain": [
       "True"
      ]
     },
     "execution_count": 5,
     "metadata": {},
     "output_type": "execute_result"
    }
   ],
   "source": [
    "# importing openai api key:\n",
    "from dotenv import load_dotenv\n",
    "load_dotenv()"
   ]
  },
  {
   "cell_type": "code",
   "execution_count": null,
   "id": "4fb7364b",
   "metadata": {},
   "outputs": [],
   "source": [
    "vector_store = Chroma(\n",
    "    embedding_function= OpenAIEmbeddings(),\n",
    "    persist_directory= \"vector-db\",   # Where to save data locally,\n",
    "    collection_name='sample'\n",
    ")"
   ]
  },
  {
   "cell_type": "code",
   "execution_count": null,
   "id": "ce93c94b",
   "metadata": {},
   "outputs": [
    {
     "data": {
      "text/plain": [
       "['26fe4706-fde6-49e3-9b9b-9e6c3543dcf1',\n",
       " '2d535050-a58b-4ed1-b79f-d486748abf78',\n",
       " '5b2d787c-dc4f-47ae-bbf9-cab3d110b7bb',\n",
       " '851afa85-724d-4183-808f-f59fcd9d2ca2',\n",
       " '60ffdcfa-7a66-4f0e-9bdb-7b5ffb5d0c37']"
      ]
     },
     "execution_count": 7,
     "metadata": {},
     "output_type": "execute_result"
    }
   ],
   "source": [
    "# add documents to the obj:\n",
    "vector_store.add_documents(docs) # -> the outputs are id regarding to the document obj "
   ]
  },
  {
   "cell_type": "code",
   "execution_count": 18,
   "id": "b4af35c9",
   "metadata": {},
   "outputs": [
    {
     "data": {
      "text/plain": [
       "{'ids': ['26fe4706-fde6-49e3-9b9b-9e6c3543dcf1',\n",
       "  '2d535050-a58b-4ed1-b79f-d486748abf78',\n",
       "  '5b2d787c-dc4f-47ae-bbf9-cab3d110b7bb',\n",
       "  '851afa85-724d-4183-808f-f59fcd9d2ca2',\n",
       "  '60ffdcfa-7a66-4f0e-9bdb-7b5ffb5d0c37'],\n",
       " 'embeddings': array([[ 0.00786439, -0.01366578, -0.00072127, ..., -0.00775811,\n",
       "          0.01137773, -0.00239901],\n",
       "        [-0.0180136 ,  0.00706999, -0.00195896, ..., -0.00445276,\n",
       "         -0.02716598,  0.00166148],\n",
       "        [-0.00031726, -0.00952205,  0.01066395, ...,  0.01428932,\n",
       "          0.00176277, -0.02673163],\n",
       "        [-0.0128614 , -0.01338105,  0.00444628, ..., -0.01833074,\n",
       "         -0.02380008,  0.00144691],\n",
       "        [ 0.00357054, -0.02677006,  0.01098075, ...,  0.00529301,\n",
       "         -0.01728451, -0.05325305]], shape=(5, 1536)),\n",
       " 'documents': ['Elon Musk is the CEO of SpaceX and Tesla, known for revolutionizing the electric vehicle industry and advancing reusable rocket technology. His work has significantly influenced modern space exploration.',\n",
       "  'Marie Curie was a pioneering physicist and chemist who discovered radium and polonium. She was the first woman to win a Nobel Prize and remains an icon for women in science.',\n",
       "  'The Renaissance was a period of great cultural and artistic revival in Europe between the 14th and 17th centuries. It gave rise to legendary artists like Leonardo da Vinci and Michelangelo.',\n",
       "  'Artificial Intelligence is transforming industries through machine learning, computer vision, and natural language processing. It enables automation, predictive analytics, and personalized digital experiences.',\n",
       "  'Climate change refers to long-term shifts in global temperatures and weather patterns, primarily caused by human activities such as burning fossil fuels and deforestation.'],\n",
       " 'uris': None,\n",
       " 'included': ['embeddings', 'documents', 'metadatas'],\n",
       " 'data': None,\n",
       " 'metadatas': [{'domain': 'Technology & Space'},\n",
       "  {'domain': 'Science & Research'},\n",
       "  {'domain': 'History & Art'},\n",
       "  {'domain': 'Artificial Intelligence'},\n",
       "  {'domain': 'Environment & Sustainability'}]}"
      ]
     },
     "execution_count": 18,
     "metadata": {},
     "output_type": "execute_result"
    }
   ],
   "source": [
    "# view documents:\n",
    "vector_store.get(include=['embeddings', 'documents', 'metadatas'])"
   ]
  },
  {
   "cell_type": "code",
   "execution_count": 19,
   "id": "4b72c5bb",
   "metadata": {},
   "outputs": [
    {
     "data": {
      "text/plain": [
       "[Document(id='26fe4706-fde6-49e3-9b9b-9e6c3543dcf1', metadata={'domain': 'Technology & Space'}, page_content='Elon Musk is the CEO of SpaceX and Tesla, known for revolutionizing the electric vehicle industry and advancing reusable rocket technology. His work has significantly influenced modern space exploration.')]"
      ]
     },
     "execution_count": 19,
     "metadata": {},
     "output_type": "execute_result"
    }
   ],
   "source": [
    "# search in the document:\n",
    "vector_store.similarity_search(\n",
    "    query='who is the ceo of tesla?',\n",
    "    k=1\n",
    ")"
   ]
  },
  {
   "cell_type": "code",
   "execution_count": 20,
   "id": "4f05606b",
   "metadata": {},
   "outputs": [
    {
     "data": {
      "text/plain": [
       "[(Document(id='2d535050-a58b-4ed1-b79f-d486748abf78', metadata={'domain': 'Science & Research'}, page_content='Marie Curie was a pioneering physicist and chemist who discovered radium and polonium. She was the first woman to win a Nobel Prize and remains an icon for women in science.'),\n",
       "  0.6445514559745789)]"
      ]
     },
     "execution_count": 20,
     "metadata": {},
     "output_type": "execute_result"
    }
   ],
   "source": [
    "# meta data filtering:\n",
    "vector_store.similarity_search_with_score(\n",
    "    query='',\n",
    "    filter={'domain': 'Science & Research'}\n",
    ")"
   ]
  },
  {
   "cell_type": "code",
   "execution_count": 23,
   "id": "ddba5919",
   "metadata": {},
   "outputs": [],
   "source": [
    "#UPDATE DOCUMENT:\n",
    "update_doc1 = Document(\n",
    "    page_content='Elon Musk is now worth of 500B dollars and is the richest person in humankind',\n",
    "    metadata = {'domain':'business and finance'}\n",
    ")\n",
    "\n",
    "vector_store.update_document(document_id='26fe4706-fde6-49e3-9b9b-9e6c3543dcf1', document=update_doc1)"
   ]
  },
  {
   "cell_type": "code",
   "execution_count": 24,
   "id": "09d6cab9",
   "metadata": {},
   "outputs": [
    {
     "data": {
      "text/plain": [
       "{'ids': ['26fe4706-fde6-49e3-9b9b-9e6c3543dcf1',\n",
       "  '2d535050-a58b-4ed1-b79f-d486748abf78',\n",
       "  '5b2d787c-dc4f-47ae-bbf9-cab3d110b7bb',\n",
       "  '851afa85-724d-4183-808f-f59fcd9d2ca2',\n",
       "  '60ffdcfa-7a66-4f0e-9bdb-7b5ffb5d0c37'],\n",
       " 'embeddings': array([[-0.01114195, -0.01598163,  0.00952872, ..., -0.02052629,\n",
       "          0.00896377,  0.00224722],\n",
       "        [-0.0180136 ,  0.00706999, -0.00195896, ..., -0.00445276,\n",
       "         -0.02716598,  0.00166148],\n",
       "        [-0.00031726, -0.00952205,  0.01066395, ...,  0.01428932,\n",
       "          0.00176277, -0.02673163],\n",
       "        [-0.0128614 , -0.01338105,  0.00444628, ..., -0.01833074,\n",
       "         -0.02380008,  0.00144691],\n",
       "        [ 0.00357054, -0.02677006,  0.01098075, ...,  0.00529301,\n",
       "         -0.01728451, -0.05325305]], shape=(5, 1536)),\n",
       " 'documents': ['Elon Musk is now worth of 500B dollars and is the richest person in humankind',\n",
       "  'Marie Curie was a pioneering physicist and chemist who discovered radium and polonium. She was the first woman to win a Nobel Prize and remains an icon for women in science.',\n",
       "  'The Renaissance was a period of great cultural and artistic revival in Europe between the 14th and 17th centuries. It gave rise to legendary artists like Leonardo da Vinci and Michelangelo.',\n",
       "  'Artificial Intelligence is transforming industries through machine learning, computer vision, and natural language processing. It enables automation, predictive analytics, and personalized digital experiences.',\n",
       "  'Climate change refers to long-term shifts in global temperatures and weather patterns, primarily caused by human activities such as burning fossil fuels and deforestation.'],\n",
       " 'uris': None,\n",
       " 'included': ['embeddings', 'documents', 'metadatas'],\n",
       " 'data': None,\n",
       " 'metadatas': [{'domain': 'business and finance'},\n",
       "  {'domain': 'Science & Research'},\n",
       "  {'domain': 'History & Art'},\n",
       "  {'domain': 'Artificial Intelligence'},\n",
       "  {'domain': 'Environment & Sustainability'}]}"
      ]
     },
     "execution_count": 24,
     "metadata": {},
     "output_type": "execute_result"
    }
   ],
   "source": [
    "# view documents:\n",
    "vector_store.get(include=['embeddings', 'documents', 'metadatas'])"
   ]
  },
  {
   "cell_type": "code",
   "execution_count": 25,
   "id": "f9c58811",
   "metadata": {},
   "outputs": [],
   "source": [
    "# delete one vector instances:\n",
    "vector_store.delete(ids=['26fe4706-fde6-49e3-9b9b-9e6c3543dcf1'])"
   ]
  },
  {
   "cell_type": "code",
   "execution_count": 26,
   "id": "90c32ef2",
   "metadata": {},
   "outputs": [
    {
     "data": {
      "text/plain": [
       "{'ids': ['2d535050-a58b-4ed1-b79f-d486748abf78',\n",
       "  '5b2d787c-dc4f-47ae-bbf9-cab3d110b7bb',\n",
       "  '851afa85-724d-4183-808f-f59fcd9d2ca2',\n",
       "  '60ffdcfa-7a66-4f0e-9bdb-7b5ffb5d0c37'],\n",
       " 'embeddings': array([[-0.0180136 ,  0.00706999, -0.00195896, ..., -0.00445276,\n",
       "         -0.02716598,  0.00166148],\n",
       "        [-0.00031726, -0.00952205,  0.01066395, ...,  0.01428932,\n",
       "          0.00176277, -0.02673163],\n",
       "        [-0.0128614 , -0.01338105,  0.00444628, ..., -0.01833074,\n",
       "         -0.02380008,  0.00144691],\n",
       "        [ 0.00357054, -0.02677006,  0.01098075, ...,  0.00529301,\n",
       "         -0.01728451, -0.05325305]], shape=(4, 1536)),\n",
       " 'documents': ['Marie Curie was a pioneering physicist and chemist who discovered radium and polonium. She was the first woman to win a Nobel Prize and remains an icon for women in science.',\n",
       "  'The Renaissance was a period of great cultural and artistic revival in Europe between the 14th and 17th centuries. It gave rise to legendary artists like Leonardo da Vinci and Michelangelo.',\n",
       "  'Artificial Intelligence is transforming industries through machine learning, computer vision, and natural language processing. It enables automation, predictive analytics, and personalized digital experiences.',\n",
       "  'Climate change refers to long-term shifts in global temperatures and weather patterns, primarily caused by human activities such as burning fossil fuels and deforestation.'],\n",
       " 'uris': None,\n",
       " 'included': ['embeddings', 'documents', 'metadatas'],\n",
       " 'data': None,\n",
       " 'metadatas': [{'domain': 'Science & Research'},\n",
       "  {'domain': 'History & Art'},\n",
       "  {'domain': 'Artificial Intelligence'},\n",
       "  {'domain': 'Environment & Sustainability'}]}"
      ]
     },
     "execution_count": 26,
     "metadata": {},
     "output_type": "execute_result"
    }
   ],
   "source": [
    "# view documents:\n",
    "vector_store.get(include=['embeddings', 'documents', 'metadatas'])"
   ]
  }
 ],
 "metadata": {
  "kernelspec": {
   "display_name": "my_env",
   "language": "python",
   "name": "python3"
  },
  "language_info": {
   "codemirror_mode": {
    "name": "ipython",
    "version": 3
   },
   "file_extension": ".py",
   "mimetype": "text/x-python",
   "name": "python",
   "nbconvert_exporter": "python",
   "pygments_lexer": "ipython3",
   "version": "3.12.1"
  }
 },
 "nbformat": 4,
 "nbformat_minor": 5
}
