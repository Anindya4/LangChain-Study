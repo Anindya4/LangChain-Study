{
 "cells": [
  {
   "cell_type": "code",
   "execution_count": 1,
   "id": "10f3da46",
   "metadata": {},
   "outputs": [
    {
     "name": "stderr",
     "output_type": "stream",
     "text": [
      "d:\\Programing\\LangChain\\my_env\\Lib\\site-packages\\tqdm\\auto.py:21: TqdmWarning: IProgress not found. Please update jupyter and ipywidgets. See https://ipywidgets.readthedocs.io/en/stable/user_install.html\n",
      "  from .autonotebook import tqdm as notebook_tqdm\n"
     ]
    }
   ],
   "source": [
    "from langchain_openai import OpenAIEmbeddings\n",
    "from langchain_chroma import Chroma\n",
    "from langchain.schema import Document\n",
    "from dotenv import load_dotenv\n"
   ]
  },
  {
   "cell_type": "code",
   "execution_count": 3,
   "id": "ec327fbe",
   "metadata": {},
   "outputs": [
    {
     "data": {
      "text/plain": [
       "True"
      ]
     },
     "execution_count": 3,
     "metadata": {},
     "output_type": "execute_result"
    }
   ],
   "source": [
    "load_dotenv()"
   ]
  },
  {
   "cell_type": "code",
   "execution_count": 4,
   "id": "75cab538",
   "metadata": {},
   "outputs": [],
   "source": [
    "docs = [\n",
    "    Document(\n",
    "        page_content=\"LangChain is a framework for building applications with large language models.\",\n",
    "        metadata={\"source\": \"langchain_docs\", \"topic\": \"intro\"}\n",
    "    ),\n",
    "    Document(\n",
    "        page_content=\"The Document class is used to represent a piece of text and its associated metadata.\",\n",
    "        metadata={\"source\": \"langchain_docs\", \"topic\": \"core_classes\"}\n",
    "    ),\n",
    "    Document(\n",
    "        page_content=\"Retrievers in LangChain help fetch relevant documents from a vector store.\",\n",
    "        metadata={\"source\": \"tutorial\",  \"topic\": \"retrievers\"}\n",
    "    ),\n",
    "    Document(\n",
    "        page_content=\"Chains combine LLMs and other components to accomplish a specific task.\",\n",
    "        metadata={\"source\": \"langchain_blog\", \"topic\": \"chains\"}\n",
    "    ),\n",
    "    Document(\n",
    "        page_content=\"Agents use tools and reasoning to decide how to act based on LLM outputs.\",\n",
    "        metadata={\"source\": \"langchain_blog\", \"topic\": \"agents\"}\n",
    "    ),\n",
    "]"
   ]
  },
  {
   "cell_type": "code",
   "execution_count": 5,
   "id": "f82914a4",
   "metadata": {},
   "outputs": [],
   "source": [
    "vectorstore = Chroma.from_documents(\n",
    "    collection_name=\"vector-retriever\",\n",
    "    documents=docs,\n",
    "    embedding=OpenAIEmbeddings()\n",
    ")"
   ]
  },
  {
   "cell_type": "code",
   "execution_count": 6,
   "id": "7376d8db",
   "metadata": {},
   "outputs": [],
   "source": [
    "retriever = vectorstore.as_retriever(search_kwargs={'k':1})"
   ]
  },
  {
   "cell_type": "code",
   "execution_count": 7,
   "id": "a34edec7",
   "metadata": {},
   "outputs": [],
   "source": [
    "result = retriever.invoke(\"how agents decides how to act\")"
   ]
  },
  {
   "cell_type": "code",
   "execution_count": 8,
   "id": "eec3e418",
   "metadata": {},
   "outputs": [
    {
     "data": {
      "text/plain": [
       "'Agents use tools and reasoning to decide how to act based on LLM outputs.'"
      ]
     },
     "execution_count": 8,
     "metadata": {},
     "output_type": "execute_result"
    }
   ],
   "source": [
    "result[0].page_content"
   ]
  },
  {
   "cell_type": "code",
   "execution_count": 9,
   "id": "80113066",
   "metadata": {},
   "outputs": [
    {
     "name": "stdout",
     "output_type": "stream",
     "text": [
      "\n",
      "-----Result 1-----\n",
      "Agents use tools and reasoning to decide how to act based on LLM outputs.\n"
     ]
    }
   ],
   "source": [
    "for i, doc in enumerate(result):\n",
    "    print(f\"\\n-----Result {i+1}-----\")\n",
    "    print(doc.page_content)"
   ]
  },
  {
   "cell_type": "markdown",
   "id": "72280714",
   "metadata": {},
   "source": [
    "We can also perform this same operation by doing semantic search in vector store which will also give us same result, the main difference is that the retriever obj is a runnable obj and it can be used with many advanced search techquines unlike similarity search"
   ]
  }
 ],
 "metadata": {
  "kernelspec": {
   "display_name": "my_env",
   "language": "python",
   "name": "python3"
  },
  "language_info": {
   "codemirror_mode": {
    "name": "ipython",
    "version": 3
   },
   "file_extension": ".py",
   "mimetype": "text/x-python",
   "name": "python",
   "nbconvert_exporter": "python",
   "pygments_lexer": "ipython3",
   "version": "3.12.1"
  }
 },
 "nbformat": 4,
 "nbformat_minor": 5
}
