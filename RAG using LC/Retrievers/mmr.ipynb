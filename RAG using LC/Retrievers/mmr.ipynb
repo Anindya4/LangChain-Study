{
 "cells": [
  {
   "cell_type": "markdown",
   "id": "a38296d8",
   "metadata": {},
   "source": [
    "# Maximal Marginal Relevance"
   ]
  },
  {
   "cell_type": "code",
   "execution_count": 4,
   "id": "cd90bd57",
   "metadata": {},
   "outputs": [],
   "source": [
    "from langchain.vectorstores import FAISS\n",
    "from langchain.schema import Document\n",
    "from langchain_openai import OpenAIEmbeddings"
   ]
  },
  {
   "cell_type": "code",
   "execution_count": 6,
   "id": "564063d7",
   "metadata": {},
   "outputs": [
    {
     "data": {
      "text/plain": [
       "True"
      ]
     },
     "execution_count": 6,
     "metadata": {},
     "output_type": "execute_result"
    }
   ],
   "source": [
    "from dotenv import load_dotenv\n",
    "load_dotenv()"
   ]
  },
  {
   "cell_type": "code",
   "execution_count": 7,
   "id": "21eaed06",
   "metadata": {},
   "outputs": [],
   "source": [
    "doc = [\n",
    "    Document(page_content=\"Artificial intelligence is changing the way students learn in modern classrooms.\"),\n",
    "    Document(page_content=\"AI is transforming education by personalizing how students learn.\"),\n",
    "    Document(page_content=\"The use of artificial intelligence tools is improving learning experiences for students.\"),\n",
    "    Document(page_content=\"Implementing AI in schools requires balancing innovation with ethical responsibility.\"),\n",
    "    Document(page_content=\"Educational policymakers are discussing the long-term impact of AI on teaching jobs.\")\n",
    "]"
   ]
  },
  {
   "cell_type": "code",
   "execution_count": 8,
   "id": "7ff1ed97",
   "metadata": {},
   "outputs": [],
   "source": [
    "# creating the vector store:\n",
    "\n",
    "vector_store = FAISS.from_documents(\n",
    "    documents= doc,\n",
    "    embedding= OpenAIEmbeddings()\n",
    ")"
   ]
  },
  {
   "cell_type": "code",
   "execution_count": null,
   "id": "eb140359",
   "metadata": {},
   "outputs": [],
   "source": [
    "# retriever:\n",
    "\n",
    "retriever = vector_store.as_retriever(\n",
    "    search_type= 'mmr',\n",
    "    search_kwargs= {\"lambda_mult\":0.5, 'k':3}\n",
    ")"
   ]
  },
  {
   "cell_type": "code",
   "execution_count": 22,
   "id": "4d44ced4",
   "metadata": {},
   "outputs": [],
   "source": [
    "query = \"what does AI use for?\"\n",
    "\n",
    "result = retriever.invoke(query)"
   ]
  },
  {
   "cell_type": "code",
   "execution_count": 23,
   "id": "5519d779",
   "metadata": {},
   "outputs": [
    {
     "name": "stdout",
     "output_type": "stream",
     "text": [
      "----------------------\n",
      "--------Result 1--------\n",
      "The use of artificial intelligence tools is improving learning experiences for students. \n",
      "\n",
      "----------------------\n",
      "--------Result 2--------\n",
      "Educational policymakers are discussing the long-term impact of AI on teaching jobs. \n",
      "\n",
      "----------------------\n",
      "--------Result 3--------\n",
      "Implementing AI in schools requires balancing innovation with ethical responsibility. \n",
      "\n"
     ]
    }
   ],
   "source": [
    "for i, doc in enumerate(result):\n",
    "    print(f\"----------------------\")\n",
    "    print(f'--------Result {i+1}--------')\n",
    "    print(doc.page_content, '\\n')"
   ]
  },
  {
   "cell_type": "code",
   "execution_count": null,
   "id": "f1fe1307",
   "metadata": {},
   "outputs": [],
   "source": [
    "\"\"\"\n",
    "----------------------\n",
    "--------Result 1--------\n",
    "The use of artificial intelligence tools is improving learning experiences for students. \n",
    "\n",
    "----------------------\n",
    "--------Result 2--------\n",
    "AI is transforming education by personalizing how students learn. \n",
    "\n",
    "----------------------\n",
    "--------Result 3--------\n",
    "Artificial intelligence is changing the way students learn in modern classrooms.\n",
    "\"\"\""
   ]
  }
 ],
 "metadata": {
  "kernelspec": {
   "display_name": "my_env",
   "language": "python",
   "name": "python3"
  },
  "language_info": {
   "codemirror_mode": {
    "name": "ipython",
    "version": 3
   },
   "file_extension": ".py",
   "mimetype": "text/x-python",
   "name": "python",
   "nbconvert_exporter": "python",
   "pygments_lexer": "ipython3",
   "version": "3.12.1"
  }
 },
 "nbformat": 4,
 "nbformat_minor": 5
}
