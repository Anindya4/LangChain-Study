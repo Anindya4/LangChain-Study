{
 "cells": [
  {
   "cell_type": "code",
   "execution_count": 2,
   "id": "ddc99399",
   "metadata": {},
   "outputs": [
    {
     "name": "stdout",
     "output_type": "stream",
     "text": [
      "Requirement already satisfied: langchain in d:\\programing\\langchain\\my_env\\lib\\site-packages (0.3.27)\n",
      "Requirement already satisfied: chromadb in d:\\programing\\langchain\\my_env\\lib\\site-packages (1.1.1)\n",
      "Requirement already satisfied: faiss-cpu in d:\\programing\\langchain\\my_env\\lib\\site-packages (1.12.0)\n",
      "Requirement already satisfied: openai in d:\\programing\\langchain\\my_env\\lib\\site-packages (1.107.0)\n",
      "Requirement already satisfied: tiktoken in d:\\programing\\langchain\\my_env\\lib\\site-packages (0.11.0)\n",
      "Requirement already satisfied: langchain_openai in d:\\programing\\langchain\\my_env\\lib\\site-packages (0.3.32)\n",
      "Requirement already satisfied: langchain-community in d:\\programing\\langchain\\my_env\\lib\\site-packages (0.3.31)\n",
      "Requirement already satisfied: wikipedia in d:\\programing\\langchain\\my_env\\lib\\site-packages (1.4.0)\n",
      "Requirement already satisfied: langchain-core<1.0.0,>=0.3.72 in d:\\programing\\langchain\\my_env\\lib\\site-packages (from langchain) (0.3.79)\n",
      "Requirement already satisfied: langchain-text-splitters<1.0.0,>=0.3.9 in d:\\programing\\langchain\\my_env\\lib\\site-packages (from langchain) (0.3.11)\n",
      "Requirement already satisfied: langsmith>=0.1.17 in d:\\programing\\langchain\\my_env\\lib\\site-packages (from langchain) (0.4.27)\n",
      "Requirement already satisfied: pydantic<3.0.0,>=2.7.4 in d:\\programing\\langchain\\my_env\\lib\\site-packages (from langchain) (2.11.7)\n",
      "Requirement already satisfied: SQLAlchemy<3,>=1.4 in d:\\programing\\langchain\\my_env\\lib\\site-packages (from langchain) (2.0.43)\n",
      "Requirement already satisfied: requests<3,>=2 in d:\\programing\\langchain\\my_env\\lib\\site-packages (from langchain) (2.32.5)\n",
      "Requirement already satisfied: PyYAML>=5.3 in d:\\programing\\langchain\\my_env\\lib\\site-packages (from langchain) (6.0.2)\n",
      "Requirement already satisfied: tenacity!=8.4.0,<10.0.0,>=8.1.0 in d:\\programing\\langchain\\my_env\\lib\\site-packages (from langchain-core<1.0.0,>=0.3.72->langchain) (9.1.2)\n",
      "Requirement already satisfied: jsonpatch<2.0.0,>=1.33.0 in d:\\programing\\langchain\\my_env\\lib\\site-packages (from langchain-core<1.0.0,>=0.3.72->langchain) (1.33)\n",
      "Requirement already satisfied: typing-extensions<5.0.0,>=4.7.0 in d:\\programing\\langchain\\my_env\\lib\\site-packages (from langchain-core<1.0.0,>=0.3.72->langchain) (4.15.0)\n",
      "Requirement already satisfied: packaging<26.0.0,>=23.2.0 in d:\\programing\\langchain\\my_env\\lib\\site-packages (from langchain-core<1.0.0,>=0.3.72->langchain) (25.0)\n",
      "Requirement already satisfied: jsonpointer>=1.9 in d:\\programing\\langchain\\my_env\\lib\\site-packages (from jsonpatch<2.0.0,>=1.33.0->langchain-core<1.0.0,>=0.3.72->langchain) (3.0.0)\n",
      "Requirement already satisfied: httpx<1,>=0.23.0 in d:\\programing\\langchain\\my_env\\lib\\site-packages (from langsmith>=0.1.17->langchain) (0.28.1)\n",
      "Requirement already satisfied: orjson>=3.9.14 in d:\\programing\\langchain\\my_env\\lib\\site-packages (from langsmith>=0.1.17->langchain) (3.11.3)\n",
      "Requirement already satisfied: requests-toolbelt>=1.0.0 in d:\\programing\\langchain\\my_env\\lib\\site-packages (from langsmith>=0.1.17->langchain) (1.0.0)\n",
      "Requirement already satisfied: zstandard>=0.23.0 in d:\\programing\\langchain\\my_env\\lib\\site-packages (from langsmith>=0.1.17->langchain) (0.24.0)\n",
      "Requirement already satisfied: anyio in d:\\programing\\langchain\\my_env\\lib\\site-packages (from httpx<1,>=0.23.0->langsmith>=0.1.17->langchain) (4.10.0)\n",
      "Requirement already satisfied: certifi in d:\\programing\\langchain\\my_env\\lib\\site-packages (from httpx<1,>=0.23.0->langsmith>=0.1.17->langchain) (2025.8.3)\n",
      "Requirement already satisfied: httpcore==1.* in d:\\programing\\langchain\\my_env\\lib\\site-packages (from httpx<1,>=0.23.0->langsmith>=0.1.17->langchain) (1.0.9)\n",
      "Requirement already satisfied: idna in d:\\programing\\langchain\\my_env\\lib\\site-packages (from httpx<1,>=0.23.0->langsmith>=0.1.17->langchain) (3.10)\n",
      "Requirement already satisfied: h11>=0.16 in d:\\programing\\langchain\\my_env\\lib\\site-packages (from httpcore==1.*->httpx<1,>=0.23.0->langsmith>=0.1.17->langchain) (0.16.0)\n",
      "Requirement already satisfied: annotated-types>=0.6.0 in d:\\programing\\langchain\\my_env\\lib\\site-packages (from pydantic<3.0.0,>=2.7.4->langchain) (0.7.0)\n",
      "Requirement already satisfied: pydantic-core==2.33.2 in d:\\programing\\langchain\\my_env\\lib\\site-packages (from pydantic<3.0.0,>=2.7.4->langchain) (2.33.2)\n",
      "Requirement already satisfied: typing-inspection>=0.4.0 in d:\\programing\\langchain\\my_env\\lib\\site-packages (from pydantic<3.0.0,>=2.7.4->langchain) (0.4.1)\n",
      "Requirement already satisfied: charset_normalizer<4,>=2 in d:\\programing\\langchain\\my_env\\lib\\site-packages (from requests<3,>=2->langchain) (3.4.3)\n",
      "Requirement already satisfied: urllib3<3,>=1.21.1 in d:\\programing\\langchain\\my_env\\lib\\site-packages (from requests<3,>=2->langchain) (2.3.0)\n",
      "Requirement already satisfied: greenlet>=1 in d:\\programing\\langchain\\my_env\\lib\\site-packages (from SQLAlchemy<3,>=1.4->langchain) (3.2.4)\n",
      "Requirement already satisfied: build>=1.0.3 in d:\\programing\\langchain\\my_env\\lib\\site-packages (from chromadb) (1.3.0)\n",
      "Requirement already satisfied: pybase64>=1.4.1 in d:\\programing\\langchain\\my_env\\lib\\site-packages (from chromadb) (1.4.2)\n",
      "Requirement already satisfied: uvicorn>=0.18.3 in d:\\programing\\langchain\\my_env\\lib\\site-packages (from uvicorn[standard]>=0.18.3->chromadb) (0.37.0)\n",
      "Requirement already satisfied: numpy>=1.22.5 in d:\\programing\\langchain\\my_env\\lib\\site-packages (from chromadb) (2.3.3)\n",
      "Requirement already satisfied: posthog<6.0.0,>=2.4.0 in d:\\programing\\langchain\\my_env\\lib\\site-packages (from chromadb) (5.4.0)\n",
      "Requirement already satisfied: onnxruntime>=1.14.1 in d:\\programing\\langchain\\my_env\\lib\\site-packages (from chromadb) (1.23.1)\n",
      "Requirement already satisfied: opentelemetry-api>=1.2.0 in d:\\programing\\langchain\\my_env\\lib\\site-packages (from chromadb) (1.37.0)\n",
      "Requirement already satisfied: opentelemetry-exporter-otlp-proto-grpc>=1.2.0 in d:\\programing\\langchain\\my_env\\lib\\site-packages (from chromadb) (1.37.0)\n",
      "Requirement already satisfied: opentelemetry-sdk>=1.2.0 in d:\\programing\\langchain\\my_env\\lib\\site-packages (from chromadb) (1.37.0)\n",
      "Requirement already satisfied: tokenizers>=0.13.2 in d:\\programing\\langchain\\my_env\\lib\\site-packages (from chromadb) (0.22.0)\n",
      "Requirement already satisfied: pypika>=0.48.9 in d:\\programing\\langchain\\my_env\\lib\\site-packages (from chromadb) (0.48.9)\n",
      "Requirement already satisfied: tqdm>=4.65.0 in d:\\programing\\langchain\\my_env\\lib\\site-packages (from chromadb) (4.67.1)\n",
      "Requirement already satisfied: overrides>=7.3.1 in d:\\programing\\langchain\\my_env\\lib\\site-packages (from chromadb) (7.7.0)\n",
      "Requirement already satisfied: importlib-resources in d:\\programing\\langchain\\my_env\\lib\\site-packages (from chromadb) (6.5.2)\n",
      "Requirement already satisfied: grpcio>=1.58.0 in d:\\programing\\langchain\\my_env\\lib\\site-packages (from chromadb) (1.74.0)\n",
      "Requirement already satisfied: bcrypt>=4.0.1 in d:\\programing\\langchain\\my_env\\lib\\site-packages (from chromadb) (5.0.0)\n",
      "Requirement already satisfied: typer>=0.9.0 in d:\\programing\\langchain\\my_env\\lib\\site-packages (from chromadb) (0.19.2)\n",
      "Requirement already satisfied: kubernetes>=28.1.0 in d:\\programing\\langchain\\my_env\\lib\\site-packages (from chromadb) (34.1.0)\n",
      "Requirement already satisfied: mmh3>=4.0.1 in d:\\programing\\langchain\\my_env\\lib\\site-packages (from chromadb) (5.2.0)\n",
      "Requirement already satisfied: rich>=10.11.0 in d:\\programing\\langchain\\my_env\\lib\\site-packages (from chromadb) (14.2.0)\n",
      "Requirement already satisfied: jsonschema>=4.19.0 in d:\\programing\\langchain\\my_env\\lib\\site-packages (from chromadb) (4.25.1)\n",
      "Requirement already satisfied: six>=1.5 in d:\\programing\\langchain\\my_env\\lib\\site-packages (from posthog<6.0.0,>=2.4.0->chromadb) (1.17.0)\n",
      "Requirement already satisfied: python-dateutil>=2.2 in d:\\programing\\langchain\\my_env\\lib\\site-packages (from posthog<6.0.0,>=2.4.0->chromadb) (2.9.0.post0)\n",
      "Requirement already satisfied: backoff>=1.10.0 in d:\\programing\\langchain\\my_env\\lib\\site-packages (from posthog<6.0.0,>=2.4.0->chromadb) (2.2.1)\n",
      "Requirement already satisfied: distro>=1.5.0 in d:\\programing\\langchain\\my_env\\lib\\site-packages (from posthog<6.0.0,>=2.4.0->chromadb) (1.9.0)\n",
      "Requirement already satisfied: jiter<1,>=0.4.0 in d:\\programing\\langchain\\my_env\\lib\\site-packages (from openai) (0.10.0)\n",
      "Requirement already satisfied: sniffio in d:\\programing\\langchain\\my_env\\lib\\site-packages (from openai) (1.3.1)\n",
      "Requirement already satisfied: regex>=2022.1.18 in d:\\programing\\langchain\\my_env\\lib\\site-packages (from tiktoken) (2025.9.1)\n",
      "Requirement already satisfied: aiohttp<4.0.0,>=3.8.3 in d:\\programing\\langchain\\my_env\\lib\\site-packages (from langchain-community) (3.13.0)\n",
      "Requirement already satisfied: dataclasses-json<0.7.0,>=0.6.7 in d:\\programing\\langchain\\my_env\\lib\\site-packages (from langchain-community) (0.6.7)\n",
      "Requirement already satisfied: pydantic-settings<3.0.0,>=2.10.1 in d:\\programing\\langchain\\my_env\\lib\\site-packages (from langchain-community) (2.11.0)\n",
      "Requirement already satisfied: httpx-sse<1.0.0,>=0.4.0 in d:\\programing\\langchain\\my_env\\lib\\site-packages (from langchain-community) (0.4.3)\n",
      "Requirement already satisfied: aiohappyeyeballs>=2.5.0 in d:\\programing\\langchain\\my_env\\lib\\site-packages (from aiohttp<4.0.0,>=3.8.3->langchain-community) (2.6.1)\n",
      "Requirement already satisfied: aiosignal>=1.4.0 in d:\\programing\\langchain\\my_env\\lib\\site-packages (from aiohttp<4.0.0,>=3.8.3->langchain-community) (1.4.0)\n",
      "Requirement already satisfied: attrs>=17.3.0 in d:\\programing\\langchain\\my_env\\lib\\site-packages (from aiohttp<4.0.0,>=3.8.3->langchain-community) (25.3.0)\n",
      "Requirement already satisfied: frozenlist>=1.1.1 in d:\\programing\\langchain\\my_env\\lib\\site-packages (from aiohttp<4.0.0,>=3.8.3->langchain-community) (1.8.0)\n",
      "Requirement already satisfied: multidict<7.0,>=4.5 in d:\\programing\\langchain\\my_env\\lib\\site-packages (from aiohttp<4.0.0,>=3.8.3->langchain-community) (6.7.0)\n",
      "Requirement already satisfied: propcache>=0.2.0 in d:\\programing\\langchain\\my_env\\lib\\site-packages (from aiohttp<4.0.0,>=3.8.3->langchain-community) (0.4.1)\n",
      "Requirement already satisfied: yarl<2.0,>=1.17.0 in d:\\programing\\langchain\\my_env\\lib\\site-packages (from aiohttp<4.0.0,>=3.8.3->langchain-community) (1.22.0)\n",
      "Requirement already satisfied: marshmallow<4.0.0,>=3.18.0 in d:\\programing\\langchain\\my_env\\lib\\site-packages (from dataclasses-json<0.7.0,>=0.6.7->langchain-community) (3.26.1)\n",
      "Requirement already satisfied: typing-inspect<1,>=0.4.0 in d:\\programing\\langchain\\my_env\\lib\\site-packages (from dataclasses-json<0.7.0,>=0.6.7->langchain-community) (0.9.0)\n",
      "Requirement already satisfied: python-dotenv>=0.21.0 in d:\\programing\\langchain\\my_env\\lib\\site-packages (from pydantic-settings<3.0.0,>=2.10.1->langchain-community) (1.1.1)\n",
      "Requirement already satisfied: mypy-extensions>=0.3.0 in d:\\programing\\langchain\\my_env\\lib\\site-packages (from typing-inspect<1,>=0.4.0->dataclasses-json<0.7.0,>=0.6.7->langchain-community) (1.1.0)\n",
      "Requirement already satisfied: beautifulsoup4 in d:\\programing\\langchain\\my_env\\lib\\site-packages (from wikipedia) (4.14.2)\n",
      "Requirement already satisfied: pyproject_hooks in d:\\programing\\langchain\\my_env\\lib\\site-packages (from build>=1.0.3->chromadb) (1.2.0)\n",
      "Requirement already satisfied: colorama in d:\\programing\\langchain\\my_env\\lib\\site-packages (from build>=1.0.3->chromadb) (0.4.6)\n",
      "Requirement already satisfied: jsonschema-specifications>=2023.03.6 in d:\\programing\\langchain\\my_env\\lib\\site-packages (from jsonschema>=4.19.0->chromadb) (2025.9.1)\n",
      "Requirement already satisfied: referencing>=0.28.4 in d:\\programing\\langchain\\my_env\\lib\\site-packages (from jsonschema>=4.19.0->chromadb) (0.36.2)\n",
      "Requirement already satisfied: rpds-py>=0.7.1 in d:\\programing\\langchain\\my_env\\lib\\site-packages (from jsonschema>=4.19.0->chromadb) (0.27.1)\n",
      "Requirement already satisfied: google-auth>=1.0.1 in d:\\programing\\langchain\\my_env\\lib\\site-packages (from kubernetes>=28.1.0->chromadb) (2.40.3)\n",
      "Requirement already satisfied: websocket-client!=0.40.0,!=0.41.*,!=0.42.*,>=0.32.0 in d:\\programing\\langchain\\my_env\\lib\\site-packages (from kubernetes>=28.1.0->chromadb) (1.9.0)\n",
      "Requirement already satisfied: requests-oauthlib in d:\\programing\\langchain\\my_env\\lib\\site-packages (from kubernetes>=28.1.0->chromadb) (2.0.0)\n",
      "Requirement already satisfied: durationpy>=0.7 in d:\\programing\\langchain\\my_env\\lib\\site-packages (from kubernetes>=28.1.0->chromadb) (0.10)\n",
      "Requirement already satisfied: cachetools<6.0,>=2.0.0 in d:\\programing\\langchain\\my_env\\lib\\site-packages (from google-auth>=1.0.1->kubernetes>=28.1.0->chromadb) (5.5.2)\n",
      "Requirement already satisfied: pyasn1-modules>=0.2.1 in d:\\programing\\langchain\\my_env\\lib\\site-packages (from google-auth>=1.0.1->kubernetes>=28.1.0->chromadb) (0.4.2)\n",
      "Requirement already satisfied: rsa<5,>=3.1.4 in d:\\programing\\langchain\\my_env\\lib\\site-packages (from google-auth>=1.0.1->kubernetes>=28.1.0->chromadb) (4.9.1)\n",
      "Requirement already satisfied: pyasn1>=0.1.3 in d:\\programing\\langchain\\my_env\\lib\\site-packages (from rsa<5,>=3.1.4->google-auth>=1.0.1->kubernetes>=28.1.0->chromadb) (0.6.1)\n",
      "Requirement already satisfied: coloredlogs in d:\\programing\\langchain\\my_env\\lib\\site-packages (from onnxruntime>=1.14.1->chromadb) (15.0.1)\n",
      "Requirement already satisfied: flatbuffers in d:\\programing\\langchain\\my_env\\lib\\site-packages (from onnxruntime>=1.14.1->chromadb) (25.9.23)\n",
      "Requirement already satisfied: protobuf in d:\\programing\\langchain\\my_env\\lib\\site-packages (from onnxruntime>=1.14.1->chromadb) (5.29.5)\n",
      "Requirement already satisfied: sympy in d:\\programing\\langchain\\my_env\\lib\\site-packages (from onnxruntime>=1.14.1->chromadb) (1.14.0)\n",
      "Requirement already satisfied: importlib-metadata<8.8.0,>=6.0 in d:\\programing\\langchain\\my_env\\lib\\site-packages (from opentelemetry-api>=1.2.0->chromadb) (8.7.0)\n",
      "Requirement already satisfied: zipp>=3.20 in d:\\programing\\langchain\\my_env\\lib\\site-packages (from importlib-metadata<8.8.0,>=6.0->opentelemetry-api>=1.2.0->chromadb) (3.23.0)\n",
      "Requirement already satisfied: googleapis-common-protos~=1.57 in d:\\programing\\langchain\\my_env\\lib\\site-packages (from opentelemetry-exporter-otlp-proto-grpc>=1.2.0->chromadb) (1.70.0)\n",
      "Requirement already satisfied: opentelemetry-exporter-otlp-proto-common==1.37.0 in d:\\programing\\langchain\\my_env\\lib\\site-packages (from opentelemetry-exporter-otlp-proto-grpc>=1.2.0->chromadb) (1.37.0)\n",
      "Requirement already satisfied: opentelemetry-proto==1.37.0 in d:\\programing\\langchain\\my_env\\lib\\site-packages (from opentelemetry-exporter-otlp-proto-grpc>=1.2.0->chromadb) (1.37.0)\n",
      "Requirement already satisfied: opentelemetry-semantic-conventions==0.58b0 in d:\\programing\\langchain\\my_env\\lib\\site-packages (from opentelemetry-sdk>=1.2.0->chromadb) (0.58b0)\n",
      "Requirement already satisfied: markdown-it-py>=2.2.0 in d:\\programing\\langchain\\my_env\\lib\\site-packages (from rich>=10.11.0->chromadb) (4.0.0)\n",
      "Requirement already satisfied: pygments<3.0.0,>=2.13.0 in d:\\programing\\langchain\\my_env\\lib\\site-packages (from rich>=10.11.0->chromadb) (2.19.2)\n",
      "Requirement already satisfied: mdurl~=0.1 in d:\\programing\\langchain\\my_env\\lib\\site-packages (from markdown-it-py>=2.2.0->rich>=10.11.0->chromadb) (0.1.2)\n",
      "Requirement already satisfied: huggingface-hub<1.0,>=0.16.4 in d:\\programing\\langchain\\my_env\\lib\\site-packages (from tokenizers>=0.13.2->chromadb) (0.34.4)\n",
      "Requirement already satisfied: filelock in d:\\programing\\langchain\\my_env\\lib\\site-packages (from huggingface-hub<1.0,>=0.16.4->tokenizers>=0.13.2->chromadb) (3.19.1)\n",
      "Requirement already satisfied: fsspec>=2023.5.0 in d:\\programing\\langchain\\my_env\\lib\\site-packages (from huggingface-hub<1.0,>=0.16.4->tokenizers>=0.13.2->chromadb) (2025.9.0)\n",
      "Requirement already satisfied: click>=8.0.0 in d:\\programing\\langchain\\my_env\\lib\\site-packages (from typer>=0.9.0->chromadb) (8.2.1)\n",
      "Requirement already satisfied: shellingham>=1.3.0 in d:\\programing\\langchain\\my_env\\lib\\site-packages (from typer>=0.9.0->chromadb) (1.5.4)\n",
      "Requirement already satisfied: httptools>=0.6.3 in d:\\programing\\langchain\\my_env\\lib\\site-packages (from uvicorn[standard]>=0.18.3->chromadb) (0.7.1)\n",
      "Requirement already satisfied: watchfiles>=0.13 in d:\\programing\\langchain\\my_env\\lib\\site-packages (from uvicorn[standard]>=0.18.3->chromadb) (1.1.0)\n",
      "Requirement already satisfied: websockets>=10.4 in d:\\programing\\langchain\\my_env\\lib\\site-packages (from uvicorn[standard]>=0.18.3->chromadb) (15.0.1)\n",
      "Requirement already satisfied: soupsieve>1.2 in d:\\programing\\langchain\\my_env\\lib\\site-packages (from beautifulsoup4->wikipedia) (2.8)\n",
      "Requirement already satisfied: humanfriendly>=9.1 in d:\\programing\\langchain\\my_env\\lib\\site-packages (from coloredlogs->onnxruntime>=1.14.1->chromadb) (10.0)\n",
      "Requirement already satisfied: pyreadline3 in d:\\programing\\langchain\\my_env\\lib\\site-packages (from humanfriendly>=9.1->coloredlogs->onnxruntime>=1.14.1->chromadb) (3.5.4)\n",
      "Requirement already satisfied: oauthlib>=3.0.0 in d:\\programing\\langchain\\my_env\\lib\\site-packages (from requests-oauthlib->kubernetes>=28.1.0->chromadb) (3.3.1)\n",
      "Requirement already satisfied: mpmath<1.4,>=1.1.0 in d:\\programing\\langchain\\my_env\\lib\\site-packages (from sympy->onnxruntime>=1.14.1->chromadb) (1.3.0)\n",
      "Note: you may need to restart the kernel to use updated packages.\n"
     ]
    }
   ],
   "source": [
    "%pip install langchain chromadb faiss-cpu openai tiktoken langchain_openai langchain-community wikipedia"
   ]
  },
  {
   "cell_type": "code",
   "execution_count": 3,
   "id": "88b5598e",
   "metadata": {},
   "outputs": [
    {
     "data": {
      "text/plain": [
       "True"
      ]
     },
     "execution_count": 3,
     "metadata": {},
     "output_type": "execute_result"
    }
   ],
   "source": [
    "from dotenv import load_dotenv\n",
    "load_dotenv()"
   ]
  },
  {
   "cell_type": "code",
   "execution_count": 4,
   "id": "5d0dca9f",
   "metadata": {},
   "outputs": [],
   "source": [
    "from langchain_community.retrievers import WikipediaRetriever"
   ]
  },
  {
   "cell_type": "code",
   "execution_count": 5,
   "id": "603c5ef4",
   "metadata": {},
   "outputs": [],
   "source": [
    "retriever = WikipediaRetriever(\n",
    "    top_k_results=1,\n",
    "    lang=\"en\"\n",
    ")"
   ]
  },
  {
   "cell_type": "code",
   "execution_count": 6,
   "id": "72f9b88f",
   "metadata": {},
   "outputs": [],
   "source": [
    "query = \"Who was Albert Einstein?\"\n",
    "docs = retriever.invoke(query)"
   ]
  },
  {
   "cell_type": "code",
   "execution_count": 7,
   "id": "a6ff977b",
   "metadata": {},
   "outputs": [
    {
     "data": {
      "text/plain": [
       "[Document(metadata={'title': 'Hans Albert Einstein', 'summary': 'Hans Albert Einstein (May 14, 1904 – July 26, 1973) was a Swiss-American engineer, the second child and first son of physicists Albert Einstein and Mileva Marić. He was a long-time professor of hydraulic engineering at the University of California, Berkeley.\\nEinstein was widely recognized for his research on sediment transport. To honor his outstanding achievement in hydraulic engineering, the American Society of Civil Engineers established the \"Hans Albert Einstein Award\" in 1988 and the annual award is given to those who have made significant contributions to the field.', 'source': 'https://en.wikipedia.org/wiki/Hans_Albert_Einstein'}, page_content='Hans Albert Einstein (May 14, 1904 – July 26, 1973) was a Swiss-American engineer, the second child and first son of physicists Albert Einstein and Mileva Marić. He was a long-time professor of hydraulic engineering at the University of California, Berkeley.\\nEinstein was widely recognized for his research on sediment transport. To honor his outstanding achievement in hydraulic engineering, the American Society of Civil Engineers established the \"Hans Albert Einstein Award\" in 1988 and the annual award is given to those who have made significant contributions to the field.\\n\\n\\n== Early life ==\\nHans Albert Einstein was born on May 14, 1904, in Bern, Switzerland, where his father, Albert Einstein, worked as a clerk in the Swiss Federal Institute of Intellectual Property. His father was of German-Jewish descent and his mother, Mileva Marić, Serbian. His younger brother, Eduard Einstein, was born in 1910 and died in 1965. In 1913, Hans and Eduard were baptized as \\nOrthodox Christians in the Orthodox Church of Saint Nicholas in Novi Sad. The fate of his older sister, Lieserl Einstein, Albert Einstein\\'s and Mileva Marić\\'s first child, is unknown, although it has been suggested she died of scarlet fever in 1903. Their parents divorced in 1919 after living apart for five years.\\n\\n\\n== Career ==\\nIn 1922, Hans followed in his parents\\' footsteps and entered ETH Zurich, where he studied civil engineering, graduating in 1926. From 1926 to 1930 he worked at the steel design company Klönne, in Dortmund, Germany. From 1931 to 1938, he worked as a research engineer at the newly founded Laboratory of Hydraulics and Soil Mechanics (VAWE) at ETH Zurich. There, in 1936 Hans Albert obtained a doctorate in technical science. His doctoral thesis \"Bed Load Transport as a Probability Problem\" (Der Geschiebetrieb als Wahrscheinlichkeitsproblem) is considered the definitive work on sediment transport.\\nHans\\' father, Albert, left Germany in 1933 to escape the persecution of Jews by the Nazi government. Heeding his father\\'s advice, Hans emigrated from Switzerland to Greenville, South Carolina, in 1938. He worked for the US Department of Agriculture, studying sediment transport from 1938 to 1943. He continued working for the USDA at the California Institute of Technology starting in 1943. In 1947 he took a position as associate professor of hydraulic engineering at the University of California, Berkeley. He advanced to full professor, and later professor emeritus.  Einstein traveled the world to participate in hydraulic engineering conferences.\\nEinstein was honored by a Guggenheim Fellowship (1953), research awards from the American Society of Civil Engineers (1959 and 1960), the Berkeley Citation from the University of California (1971), the Certificate of Merit from the U.S. Department of Agriculture (1971), and a certificate of recognition for more than 20 years of devoted and distinguished service to Applied Mechanics Reviews by the American Society of Mechanical Engineers (1972).\\nHans was also made a member of Pi Tau Sigma in December 1949 with honorary membership grade.\\nIn 1958 he was the principal guest of honor at the Technion\\'s dedication of a new building housing the Albert Einstein Institute of Physics.\\n\\n \\nHans Albert Einstein collapsed and died of heart failure on July 26, 1973 while attending a symposium at Woods Hole, Massachusetts. His papers are held at the Water Resources Collections and Archives in the University of California, Riverside Libraries and in the University of Iowa Libraries Special Collections and Archives.\\n\\n\\n== Personal life ==\\nIn 1927, Hans Albert Einstein married Frieda Knecht (1895-1958). They had four children:\\n\\nBernhard Caesar Einstein (10 July 1930 – 30 September 2008), who was a physicist and engineer.\\nKlaus Martin Einstein (1932–1939), died of diphtheria aged six.\\nDavid Einstein (October–November 1939), died aged one month.\\nEvelyn Einstein (28 March 1941 – 13 April 2011), adopted daughter\\nKnecht died in 1958, and Hans Alber')]"
      ]
     },
     "execution_count": 7,
     "metadata": {},
     "output_type": "execute_result"
    }
   ],
   "source": [
    "docs"
   ]
  },
  {
   "cell_type": "code",
   "execution_count": 8,
   "id": "868cd62a",
   "metadata": {},
   "outputs": [
    {
     "name": "stdout",
     "output_type": "stream",
     "text": [
      "\n",
      "Document 1:\n",
      "Content: Hans Albert Einstein (May 14, 1904 – July 26, 1973) was a Swiss-American engineer, the second child and first son of physicists Albert Einstein and Mileva Marić. He was a long-time professor of hydraulic engineering at the University of California, Berkeley.\n",
      "Einstein was widely recognized for his research on sediment transport. To honor his outstanding achievement in hydraulic engineering, the American Society of Civil Engineers established the \"Hans Albert Einstein Award\" in 1988 and the annual award is given to those who have made significant contributions to the field.\n",
      "\n",
      "\n",
      "== Early life ==\n",
      "Hans Albert Einstein was born on May 14, 1904, in Bern, Switzerland, where his father, Albert Einstein, worked as a clerk in the Swiss Federal Institute of Intellectual Property. His father was of German-Jewish descent and his mother, Mileva Marić, Serbian. His younger brother, Eduard Einstein, was born in 1910 and died in 1965. In 1913, Hans and Eduard were baptized as \n",
      "Orthodox Christians in the Orthodox Church of Saint Nicholas in Novi Sad. The fate of his older sister, Lieserl Einstein, Albert Einstein's and Mileva Marić's first child, is unknown, although it has been suggested she died of scarlet fever in 1903. Their parents divorced in 1919 after living apart for five years.\n",
      "\n",
      "\n",
      "== Career ==\n",
      "In 1922, Hans followed in his parents' footsteps and entered ETH Zurich, where he studied civil engineering, graduating in 1926. From 1926 to 1930 he worked at the steel design company Klönne, in Dortmund, Germany. From 1931 to 1938, he worked as a research engineer at the newly founded Laboratory of Hydraulics and Soil Mechanics (VAWE) at ETH Zurich. There, in 1936 Hans Albert obtained a doctorate in technical science. His doctoral thesis \"Bed Load Transport as a Probability Problem\" (Der Geschiebetrieb als Wahrscheinlichkeitsproblem) is considered the definitive work on sediment transport.\n",
      "Hans' father, Albert, left Germany in 1933 to escape the persecution of Jews by the Nazi government. Heeding his father's advice, Hans emigrated from Switzerland to Greenville, South Carolina, in 1938. He worked for the US Department of Agriculture, studying sediment transport from 1938 to 1943. He continued working for the USDA at the California Institute of Technology starting in 1943. In 1947 he took a position as associate professor of hydraulic engineering at the University of California, Berkeley. He advanced to full professor, and later professor emeritus.  Einstein traveled the world to participate in hydraulic engineering conferences.\n",
      "Einstein was honored by a Guggenheim Fellowship (1953), research awards from the American Society of Civil Engineers (1959 and 1960), the Berkeley Citation from the University of California (1971), the Certificate of Merit from the U.S. Department of Agriculture (1971), and a certificate of recognition for more than 20 years of devoted and distinguished service to Applied Mechanics Reviews by the American Society of Mechanical Engineers (1972).\n",
      "Hans was also made a member of Pi Tau Sigma in December 1949 with honorary membership grade.\n",
      "In 1958 he was the principal guest of honor at the Technion's dedication of a new building housing the Albert Einstein Institute of Physics.\n",
      "\n",
      " \n",
      "Hans Albert Einstein collapsed and died of heart failure on July 26, 1973 while attending a symposium at Woods Hole, Massachusetts. His papers are held at the Water Resources Collections and Archives in the University of California, Riverside Libraries and in the University of Iowa Libraries Special Collections and Archives.\n",
      "\n",
      "\n",
      "== Personal life ==\n",
      "In 1927, Hans Albert Einstein married Frieda Knecht (1895-1958). They had four children:\n",
      "\n",
      "Bernhard Caesar Einstein (10 July 1930 – 30 September 2008), who was a physicist and engineer.\n",
      "Klaus Martin Einstein (1932–1939), died of diphtheria aged six.\n",
      "David Einstein (October–November 1939), died aged one month.\n",
      "Evelyn Einstein (28 March 1941 – 13 April 2011), adopted daughter\n",
      "Knecht died in 1958, and Hans Alber\n",
      "Metadata: {'title': 'Hans Albert Einstein', 'summary': 'Hans Albert Einstein (May 14, 1904 – July 26, 1973) was a Swiss-American engineer, the second child and first son of physicists Albert Einstein and Mileva Marić. He was a long-time professor of hydraulic engineering at the University of California, Berkeley.\\nEinstein was widely recognized for his research on sediment transport. To honor his outstanding achievement in hydraulic engineering, the American Society of Civil Engineers established the \"Hans Albert Einstein Award\" in 1988 and the annual award is given to those who have made significant contributions to the field.', 'source': 'https://en.wikipedia.org/wiki/Hans_Albert_Einstein'}\n"
     ]
    }
   ],
   "source": [
    "# Print the content of the retrieved documents\n",
    "for i, doc in enumerate(docs):\n",
    "    print(f\"\\nDocument {i+1}:\")\n",
    "    print(\"Content:\", doc.page_content)\n",
    "    print(\"Metadata:\", doc.metadata)"
   ]
  }
 ],
 "metadata": {
  "kernelspec": {
   "display_name": "my_env",
   "language": "python",
   "name": "python3"
  },
  "language_info": {
   "codemirror_mode": {
    "name": "ipython",
    "version": 3
   },
   "file_extension": ".py",
   "mimetype": "text/x-python",
   "name": "python",
   "nbconvert_exporter": "python",
   "pygments_lexer": "ipython3",
   "version": "3.12.1"
  }
 },
 "nbformat": 4,
 "nbformat_minor": 5
}
