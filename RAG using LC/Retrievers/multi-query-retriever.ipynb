{
 "cells": [
  {
   "cell_type": "markdown",
   "id": "a739164e",
   "metadata": {},
   "source": [
    "# Multi Query Retriever"
   ]
  },
  {
   "cell_type": "code",
   "execution_count": 56,
   "id": "13f77a2b",
   "metadata": {},
   "outputs": [],
   "source": [
    "from langchain_openai import ChatOpenAI, OpenAIEmbeddings\n",
    "from langchain.retrievers.multi_query import MultiQueryRetriever\n",
    "from langchain.schema import Document\n",
    "from langchain.vectorstores import FAISS"
   ]
  },
  {
   "cell_type": "code",
   "execution_count": 57,
   "id": "dff60679",
   "metadata": {},
   "outputs": [],
   "source": [
    "doc = [\n",
    "    Document(page_content=\"Regular walking boosts heart health and can reduce symptoms of depression.\", metadata={\"source\": \"H1\"}),\n",
    "    Document(page_content=\"Consuming leafy greens and fruits helps detox the body and improve longevity.\", metadata={\"source\": \"H2\"}),\n",
    "    Document(page_content=\"Deep sleep is crucial for cellular repair and emotional regulation.\", metadata={\"source\": \"H3\"}),\n",
    "    Document(page_content=\"Mindfulness and controlled breathing lower cortisol and improve mental clarity.\", metadata={\"source\": \"H4\"}),\n",
    "    Document(page_content=\"Drinking sufficient water throughout the day helps maintain metabolism and energy.\", metadata={\"source\": \"H5\"}),\n",
    "    Document(page_content=\"The solar energy system in modern homes helps balance electricity demand.\", metadata={\"source\": \"I1\"}),\n",
    "    Document(page_content=\"Python balances readability with power, making it a popular system design language.\", metadata={\"source\": \"I2\"}),\n",
    "    Document(page_content=\"Photosynthesis enables plants to produce energy by converting sunlight.\", metadata={\"source\": \"I3\"}),\n",
    "    Document(page_content=\"The 2022 FIFA World Cup was held in Qatar and drew global energy and excitement.\", metadata={\"source\": \"I4\"}),\n",
    "    Document(page_content=\"Black holes bend spacetime and store immense gravitational energy.\", metadata={\"source\": \"I5\"})\n",
    "]"
   ]
  },
  {
   "cell_type": "code",
   "execution_count": 58,
   "id": "41a4e346",
   "metadata": {},
   "outputs": [
    {
     "data": {
      "text/plain": [
       "True"
      ]
     },
     "execution_count": 58,
     "metadata": {},
     "output_type": "execute_result"
    }
   ],
   "source": [
    "from dotenv import load_dotenv\n",
    "load_dotenv()"
   ]
  },
  {
   "cell_type": "code",
   "execution_count": null,
   "id": "663cc9f0",
   "metadata": {},
   "outputs": [],
   "source": [
    "vector_store = FAISS.from_documents(\n",
    "    documents=doc,\n",
    "    embedding=OpenAIEmbeddings()\n",
    ")"
   ]
  },
  {
   "cell_type": "code",
   "execution_count": 60,
   "id": "c46e0af6",
   "metadata": {},
   "outputs": [],
   "source": [
    "similarity_retriever = vector_store.as_retriever(search_type = 'similarity', search_kwargs = {'k':4})"
   ]
  },
  {
   "cell_type": "code",
   "execution_count": 61,
   "id": "efdddde5",
   "metadata": {},
   "outputs": [],
   "source": [
    "multiquery_retriever = MultiQueryRetriever.from_llm(\n",
    "    retriever=vector_store.as_retriever(search_kwargs={\"k\": 5}),\n",
    "    llm=ChatOpenAI(model=\"gpt-5-nano\")\n",
    ")"
   ]
  },
  {
   "cell_type": "code",
   "execution_count": 68,
   "id": "5babe25a",
   "metadata": {},
   "outputs": [
    {
     "data": {
      "text/plain": [
       "MultiQueryRetriever(retriever=VectorStoreRetriever(tags=['FAISS', 'OpenAIEmbeddings'], vectorstore=<langchain_community.vectorstores.faiss.FAISS object at 0x000001F30B64B8C0>, search_kwargs={'k': 5}), llm_chain=PromptTemplate(input_variables=['question'], input_types={}, partial_variables={}, template='You are an AI language model assistant. Your task is\\n    to generate 3 different versions of the given user\\n    question to retrieve relevant documents from a vector  database.\\n    By generating multiple perspectives on the user question,\\n    your goal is to help the user overcome some of the limitations\\n    of distance-based similarity search. Provide these alternative\\n    questions separated by newlines. Original question: {question}')\n",
       "| ChatOpenAI(client=<openai.resources.chat.completions.completions.Completions object at 0x000001F30BD634D0>, async_client=<openai.resources.chat.completions.completions.AsyncCompletions object at 0x000001F30B634170>, root_client=<openai.OpenAI object at 0x000001F30BD61730>, root_async_client=<openai.AsyncOpenAI object at 0x000001F30BD62AE0>, model_name='gpt-5-nano', model_kwargs={}, openai_api_key=SecretStr('**********'))\n",
       "| LineListOutputParser())"
      ]
     },
     "execution_count": 68,
     "metadata": {},
     "output_type": "execute_result"
    }
   ],
   "source": [
    "multiquery_retriever"
   ]
  },
  {
   "cell_type": "code",
   "execution_count": 63,
   "id": "71f16481",
   "metadata": {},
   "outputs": [],
   "source": [
    "query = \"How to improve energy levels and maintain balance?\"\n"
   ]
  },
  {
   "cell_type": "code",
   "execution_count": 64,
   "id": "2bd3f136",
   "metadata": {},
   "outputs": [],
   "source": [
    "similarity_results = similarity_retriever.invoke(query)\n",
    "multiquery_results = multiquery_retriever.invoke(query)"
   ]
  },
  {
   "cell_type": "code",
   "execution_count": 65,
   "id": "47582bf8",
   "metadata": {},
   "outputs": [
    {
     "name": "stdout",
     "output_type": "stream",
     "text": [
      "**************************************************\n",
      "Result 1\n",
      "Drinking sufficient water throughout the day helps maintain metabolism and energy.\n",
      "================================================== \n",
      "\n",
      "**************************************************\n",
      "Result 2\n",
      "Mindfulness and controlled breathing lower cortisol and improve mental clarity.\n",
      "================================================== \n",
      "\n",
      "**************************************************\n",
      "Result 3\n",
      "Consuming leafy greens and fruits helps detox the body and improve longevity.\n",
      "================================================== \n",
      "\n",
      "**************************************************\n",
      "Result 4\n",
      "The solar energy system in modern homes helps balance electricity demand.\n",
      "================================================== \n",
      "\n"
     ]
    }
   ],
   "source": [
    "for i, doc in enumerate(similarity_results):\n",
    "    print(\"*\"*50)\n",
    "    print(f'Result {i+1}')\n",
    "    print(doc.page_content)\n",
    "    print(\"=\"*50, '\\n')"
   ]
  },
  {
   "cell_type": "code",
   "execution_count": 66,
   "id": "cabf55d1",
   "metadata": {},
   "outputs": [
    {
     "name": "stdout",
     "output_type": "stream",
     "text": [
      "**************************************************\n",
      "Result 1\n",
      "Drinking sufficient water throughout the day helps maintain metabolism and energy.\n",
      "================================================== \n",
      "\n",
      "**************************************************\n",
      "Result 2\n",
      "Deep sleep is crucial for cellular repair and emotional regulation.\n",
      "================================================== \n",
      "\n",
      "**************************************************\n",
      "Result 3\n",
      "Mindfulness and controlled breathing lower cortisol and improve mental clarity.\n",
      "================================================== \n",
      "\n",
      "**************************************************\n",
      "Result 4\n",
      "Regular walking boosts heart health and can reduce symptoms of depression.\n",
      "================================================== \n",
      "\n",
      "**************************************************\n",
      "Result 5\n",
      "Consuming leafy greens and fruits helps detox the body and improve longevity.\n",
      "================================================== \n",
      "\n",
      "**************************************************\n",
      "Result 6\n",
      "The solar energy system in modern homes helps balance electricity demand.\n",
      "================================================== \n",
      "\n"
     ]
    }
   ],
   "source": [
    "for i, doc in enumerate(multiquery_results):\n",
    "    print(\"*\"*50)\n",
    "    print(f'Result {i+1}')\n",
    "    print(doc.page_content)\n",
    "    print(\"=\"*50, '\\n')"
   ]
  },
  {
   "cell_type": "markdown",
   "id": "e8e9be9c",
   "metadata": {},
   "source": [
    "For some reason I am getting 6 outputs i check online and find out the k doesn't apply on multiquery_retrievers to put a limit about how many output should be shown as results, as llm generates 3 new querys on the existing user questions and then tries to find the best ans the output gets sorted from given document obj then merge if any duplicates happens to be there after that the result got shown and the numbers can vary. Also could not find why ***Result 2*** being shown as output the llm might confused with its context is what i think "
   ]
  }
 ],
 "metadata": {
  "kernelspec": {
   "display_name": "my_env",
   "language": "python",
   "name": "python3"
  },
  "language_info": {
   "codemirror_mode": {
    "name": "ipython",
    "version": 3
   },
   "file_extension": ".py",
   "mimetype": "text/x-python",
   "name": "python",
   "nbconvert_exporter": "python",
   "pygments_lexer": "ipython3",
   "version": "3.12.1"
  }
 },
 "nbformat": 4,
 "nbformat_minor": 5
}
