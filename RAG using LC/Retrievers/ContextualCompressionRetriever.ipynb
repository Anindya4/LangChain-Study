{
 "cells": [
  {
   "cell_type": "markdown",
   "id": "c29f6321",
   "metadata": {},
   "source": [
    "# ContextualCompressionRetriever"
   ]
  },
  {
   "cell_type": "code",
   "execution_count": 20,
   "id": "d293c462",
   "metadata": {},
   "outputs": [],
   "source": [
    "from langchain_openai import ChatOpenAI, OpenAIEmbeddings\n",
    "from langchain.retrievers.contextual_compression import ContextualCompressionRetriever\n",
    "from langchain.retrievers.document_compressors import LLMChainExtractor\n",
    "from langchain.schema import Document\n",
    "from langchain.vectorstores import FAISS"
   ]
  },
  {
   "cell_type": "code",
   "execution_count": 21,
   "id": "c8df5484",
   "metadata": {},
   "outputs": [],
   "source": [
    "docs = [\n",
    "    Document(page_content=(\n",
    "        \"\"\"The Grand Canyon is one of the most visited natural wonders in the world.\n",
    "        Photosynthesis is the process by which green plants convert sunlight into energy.\n",
    "        \"\"\"\n",
    "    )),\n",
    "    Document(page_content=(\n",
    "        \"\"\"In medieval Europe, castles were built primarily for defense.\n",
    "        Millions of tourists travel to see Grand Canyon every year. The rocks date back millions of years.\n",
    "        The chlorophyll in plant cells captures sunlight during photosynthesis.\n",
    "        Knights wore armor made of metal. Siege weapons were often used to breach castle walls.\"\"\"\n",
    "    )),\n",
    "\n",
    "    Document(page_content=(\n",
    "        \"\"\"Basketball was invented by Dr. James Naismith in the late 19th century.\n",
    "        It was originally played with a soccer ball and peach baskets. NBA is now a global league.\"\"\"\n",
    "    )),\n",
    "\n",
    "    Document(page_content=(\n",
    "        \"\"\"The history of cinema began in the late 1800s. Silent films were the earliest form.\n",
    "        Thomas Edison was among the pioneers. Photosynthesis does not occur in animal cells.\n",
    "        Modern filmmaking involves complex CGI and sound design.\"\"\"\n",
    "    ))\n",
    "]"
   ]
  },
  {
   "cell_type": "code",
   "execution_count": 22,
   "id": "1c9af213",
   "metadata": {},
   "outputs": [
    {
     "data": {
      "text/plain": [
       "True"
      ]
     },
     "execution_count": 22,
     "metadata": {},
     "output_type": "execute_result"
    }
   ],
   "source": [
    "from dotenv import load_dotenv\n",
    "load_dotenv()"
   ]
  },
  {
   "cell_type": "code",
   "execution_count": 23,
   "id": "b8410d96",
   "metadata": {},
   "outputs": [],
   "source": [
    "vector_store = FAISS.from_documents(\n",
    "    documents=docs,\n",
    "    embedding=OpenAIEmbeddings()\n",
    ")"
   ]
  },
  {
   "cell_type": "code",
   "execution_count": 24,
   "id": "8866fb76",
   "metadata": {},
   "outputs": [],
   "source": [
    "# creating compressor obj:\n",
    "\n",
    "compressor = LLMChainExtractor.from_llm(llm=ChatOpenAI(model='gpt-5-nano'))\n"
   ]
  },
  {
   "cell_type": "code",
   "execution_count": 25,
   "id": "20bd6610",
   "metadata": {},
   "outputs": [],
   "source": [
    "base_retriever = ContextualCompressionRetriever(\n",
    "    base_retriever= vector_store.as_retriever(search_kwargs= {'k':5}),\n",
    "    base_compressor= compressor\n",
    "    \n",
    ")"
   ]
  },
  {
   "cell_type": "code",
   "execution_count": 29,
   "id": "73c6c9bd",
   "metadata": {},
   "outputs": [],
   "source": [
    "# query1 = \"What is grand canyon?\"\n",
    "query2 = \"Tell me about history of cinema\"\n",
    "\n",
    "com_res = base_retriever.invoke(query2)"
   ]
  },
  {
   "cell_type": "code",
   "execution_count": 30,
   "id": "7e756104",
   "metadata": {},
   "outputs": [
    {
     "data": {
      "text/plain": [
       "[Document(metadata={}, page_content='Extracted relevant parts:\\nThe history of cinema began in the late 1800s. Silent films were the earliest form. Thomas Edison was among the pioneers.')]"
      ]
     },
     "execution_count": 30,
     "metadata": {},
     "output_type": "execute_result"
    }
   ],
   "source": [
    "com_res"
   ]
  },
  {
   "cell_type": "code",
   "execution_count": null,
   "id": "eeac37fe",
   "metadata": {},
   "outputs": [
    {
     "data": {
      "text/plain": [
       "[Document(metadata={}, page_content='The Grand Canyon is one of the most visited natural wonders in the world.'),\n",
       " Document(metadata={}, page_content='Extracted relevant parts:\\nMillions of tourists travel to see Grand Canyon every year. The rocks date back millions of years.')]"
      ]
     },
     "execution_count": 27,
     "metadata": {},
     "output_type": "execute_result"
    }
   ],
   "source": [
    "# com_res"
   ]
  },
  {
   "cell_type": "code",
   "execution_count": 31,
   "id": "7b9faa0f",
   "metadata": {},
   "outputs": [
    {
     "name": "stdout",
     "output_type": "stream",
     "text": [
      "\n",
      "--- Result 1 ---\n",
      "Extracted relevant parts:\n",
      "The history of cinema began in the late 1800s. Silent films were the earliest form. Thomas Edison was among the pioneers.\n"
     ]
    }
   ],
   "source": [
    "for i, doc in enumerate(com_res):\n",
    "    print(f\"\\n--- Result {i+1} ---\")\n",
    "    print(doc.page_content)\n"
   ]
  }
 ],
 "metadata": {
  "kernelspec": {
   "display_name": "my_env",
   "language": "python",
   "name": "python3"
  },
  "language_info": {
   "codemirror_mode": {
    "name": "ipython",
    "version": 3
   },
   "file_extension": ".py",
   "mimetype": "text/x-python",
   "name": "python",
   "nbconvert_exporter": "python",
   "pygments_lexer": "ipython3",
   "version": "3.12.1"
  }
 },
 "nbformat": 4,
 "nbformat_minor": 5
}
