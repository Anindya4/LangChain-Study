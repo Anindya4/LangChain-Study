{
 "cells": [
  {
   "cell_type": "markdown",
   "id": "ec8510ab",
   "metadata": {},
   "source": [
    "# Making a fake LLM class"
   ]
  },
  {
   "cell_type": "code",
   "execution_count": 2,
   "id": "ef060cc4",
   "metadata": {},
   "outputs": [],
   "source": [
    "import random\n",
    "\n",
    "class FakeLLM:\n",
    "    \n",
    "    def __init__(self):\n",
    "        print('LLM Created')\n",
    "        \n",
    "    def predict(self, prompt):\n",
    "        response_list = [\n",
    "            \"Delhi is the capital of India\",\n",
    "            \"I'm learning Runnables in LangChain\",\n",
    "            \"Today is thursday\",\n",
    "            \"This is Fake LLM class\"\n",
    "        ]\n",
    "        \n",
    "        return {'response': random.choice(response_list)}"
   ]
  },
  {
   "cell_type": "markdown",
   "id": "901a20d9",
   "metadata": {},
   "source": [
    "# Fake Prompt Template Class"
   ]
  },
  {
   "cell_type": "code",
   "execution_count": null,
   "metadata": {},
   "outputs": [],
   "source": [
    "class FakePT:\n",
    "    def __init__(self, template, input_variables):\n",
    "        self.template  = template\n",
    "        self.input_variables = input_variables\n",
    "        \n",
    "    def format(self, input_dict):\n",
    "        return self.template.format(**input_dict)\n",
    "        "
   ]
  },
  {
   "cell_type": "markdown",
   "id": "96ff48b8",
   "metadata": {},
   "source": [
    "## Test this classes"
   ]
  },
  {
   "cell_type": "code",
   "execution_count": 4,
   "id": "f67c15dd",
   "metadata": {},
   "outputs": [],
   "source": [
    "template = FakePT(\n",
    "    template=\"Tell me some interesting facts about {topic}\",\n",
    "    input_variables=[\"topic\"]\n",
    ")\n",
    "\n",
    "prompt = template.format({'topic': \"Internet\"})"
   ]
  },
  {
   "cell_type": "code",
   "execution_count": 5,
   "id": "83c799a2",
   "metadata": {},
   "outputs": [
    {
     "name": "stdout",
     "output_type": "stream",
     "text": [
      "LLM Created\n"
     ]
    }
   ],
   "source": [
    "llm = FakeLLM()"
   ]
  },
  {
   "cell_type": "code",
   "execution_count": 15,
   "id": "95ae7667",
   "metadata": {},
   "outputs": [
    {
     "data": {
      "text/plain": [
       "{'response': 'This is Fake LLM class'}"
      ]
     },
     "execution_count": 15,
     "metadata": {},
     "output_type": "execute_result"
    }
   ],
   "source": [
    "llm.predict(prompt=prompt)  # as the reponse was set to random, the output will also be random"
   ]
  },
  {
   "cell_type": "markdown",
   "id": "64d94dad",
   "metadata": {},
   "source": [
    "# Fake Chain Module"
   ]
  },
  {
   "cell_type": "code",
   "execution_count": 36,
   "id": "2ce18637",
   "metadata": {},
   "outputs": [],
   "source": [
    "class FakeChain:\n",
    "    \n",
    "    def __init__(self, llm, prompt):\n",
    "        self.llm = llm\n",
    "        self.prompt = prompt\n",
    "        \n",
    "    def run(self, input_dict):\n",
    "        final_prompt = self.prompt.format(input_dict)\n",
    "        result = self.llm.predict(final_prompt)\n",
    "        \n",
    "        return result['response']"
   ]
  },
  {
   "cell_type": "code",
   "execution_count": 37,
   "id": "e6237cec",
   "metadata": {},
   "outputs": [],
   "source": [
    "template1 = FakePT(\n",
    "    template=\"Tell me some interesting facts about {topic}\",\n",
    "    input_variables=[\"topic\"]\n",
    ")"
   ]
  },
  {
   "cell_type": "code",
   "execution_count": 38,
   "id": "bb4c68d5",
   "metadata": {},
   "outputs": [
    {
     "name": "stdout",
     "output_type": "stream",
     "text": [
      "LLM Created\n"
     ]
    }
   ],
   "source": [
    "llm1 = FakeLLM()"
   ]
  },
  {
   "cell_type": "code",
   "execution_count": 39,
   "id": "57a32fa6",
   "metadata": {},
   "outputs": [],
   "source": [
    "chain = FakeChain(llm1, template1)"
   ]
  },
  {
   "cell_type": "code",
   "execution_count": 41,
   "id": "d252de17",
   "metadata": {},
   "outputs": [
    {
     "data": {
      "text/plain": [
       "'Delhi is the capital of India'"
      ]
     },
     "execution_count": 41,
     "metadata": {},
     "output_type": "execute_result"
    }
   ],
   "source": [
    "chain.run({\"topic\":\"Earth\"})"
   ]
  }
 ],
 "metadata": {
  "kernelspec": {
   "display_name": "my_env",
   "language": "python",
   "name": "python3"
  },
  "language_info": {
   "codemirror_mode": {
    "name": "ipython",
    "version": 3
   },
   "file_extension": ".py",
   "mimetype": "text/x-python",
   "name": "python",
   "nbconvert_exporter": "python",
   "pygments_lexer": "ipython3",
   "version": "3.12.1"
  }
 },
 "nbformat": 4,
 "nbformat_minor": 5
}
