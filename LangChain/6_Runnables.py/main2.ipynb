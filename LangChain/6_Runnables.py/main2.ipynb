{
 "cells": [
  {
   "cell_type": "markdown",
   "id": "d6f5acfc",
   "metadata": {},
   "source": [
    "# Implementing Runnables in LangChains"
   ]
  },
  {
   "cell_type": "code",
   "execution_count": 34,
   "id": "0987ecef",
   "metadata": {},
   "outputs": [],
   "source": [
    "from abc import ABC, abstractmethod"
   ]
  },
  {
   "cell_type": "code",
   "execution_count": 35,
   "id": "14af9997",
   "metadata": {},
   "outputs": [],
   "source": [
    "class Runnable(ABC):\n",
    "    \n",
    "    @abstractmethod\n",
    "    def invoke(input_data):\n",
    "        pass"
   ]
  },
  {
   "cell_type": "code",
   "execution_count": 36,
   "id": "a41c3da9",
   "metadata": {},
   "outputs": [],
   "source": [
    "import random\n",
    "\n",
    "class FakeLLM(Runnable):\n",
    "    \n",
    "    def __init__(self):\n",
    "        print('LLM Created')\n",
    "    \n",
    "    def invoke(self, prompt):\n",
    "        response_list = [\n",
    "            \"Delhi is the capital of India\",\n",
    "            \"I'm learning Runnables in LangChain\",\n",
    "            \"Today is thursday\",\n",
    "            \"This is Fake LLM class\"\n",
    "        ]\n",
    "        \n",
    "        return {'response': random.choice(response_list)}\n",
    "        \n",
    "    \n",
    "    def predict(self, prompt):\n",
    "        response_list = [\n",
    "            \"Delhi is the capital of India\",\n",
    "            \"I'm learning Runnables in LangChain\",\n",
    "            \"Today is thursday\",\n",
    "            \"This is Fake LLM class\"\n",
    "        ]\n",
    "        \n",
    "        return {'response': random.choice(response_list)}"
   ]
  },
  {
   "cell_type": "code",
   "execution_count": 37,
   "id": "d55e177d",
   "metadata": {},
   "outputs": [],
   "source": [
    "class FakePT(Runnable):\n",
    "    def __init__(self, template, input_variables):\n",
    "        self.template  = template\n",
    "        self.input_variables = input_variables\n",
    "    \n",
    "    def invoke(self, input_dict):\n",
    "        return self.template.format(**input_dict)\n",
    "    \n",
    "    def format(self, input_dict):\n",
    "        return self.template.format(**input_dict)"
   ]
  },
  {
   "cell_type": "code",
   "execution_count": 46,
   "id": "d8243c26",
   "metadata": {},
   "outputs": [],
   "source": [
    "class FakeStrOutputParser(Runnable):\n",
    "    \n",
    "    def __init__(self):\n",
    "        pass\n",
    "    \n",
    "    def invoke(self,input_data):\n",
    "        return input_data['response']"
   ]
  },
  {
   "cell_type": "code",
   "execution_count": 47,
   "id": "3faea138",
   "metadata": {},
   "outputs": [],
   "source": [
    "class RunnableConnector(Runnable):\n",
    "    \n",
    "    def __init__(self, runable_list):\n",
    "        self.runable_list = runable_list\n",
    "        \n",
    "    def invoke(self,input_data):\n",
    "        \n",
    "        for runable in self.runable_list:\n",
    "            input_data = runable.invoke(input_data)\n",
    "            \n",
    "        return input_data\n",
    "        "
   ]
  },
  {
   "cell_type": "code",
   "execution_count": 48,
   "id": "c3c810ba",
   "metadata": {},
   "outputs": [],
   "source": [
    "template = FakePT(\n",
    "    template=\"Tell me some interesting facts about {topic}\",\n",
    "    input_variables=[\"topic\"]\n",
    ")"
   ]
  },
  {
   "cell_type": "code",
   "execution_count": 49,
   "id": "c5664f50",
   "metadata": {},
   "outputs": [
    {
     "name": "stdout",
     "output_type": "stream",
     "text": [
      "LLM Created\n"
     ]
    }
   ],
   "source": [
    "llm = FakeLLM()\n",
    "parser = FakeStrOutputParser()"
   ]
  },
  {
   "cell_type": "code",
   "execution_count": 50,
   "id": "94080b84",
   "metadata": {},
   "outputs": [],
   "source": [
    "chain  = RunnableConnector([template, llm,  parser])"
   ]
  },
  {
   "cell_type": "code",
   "execution_count": 54,
   "id": "b1f8b50d",
   "metadata": {},
   "outputs": [
    {
     "data": {
      "text/plain": [
       "'This is Fake LLM class'"
      ]
     },
     "execution_count": 54,
     "metadata": {},
     "output_type": "execute_result"
    }
   ],
   "source": [
    "chain.invoke({\"topic\":\"india\"})"
   ]
  },
  {
   "cell_type": "code",
   "execution_count": 55,
   "id": "e3e12c73",
   "metadata": {},
   "outputs": [],
   "source": [
    "temp1 = FakePT(\n",
    "    template=\"Write me something about {topic}\",\n",
    "    input_variables=['topic']\n",
    ")"
   ]
  },
  {
   "cell_type": "code",
   "execution_count": 56,
   "id": "639e5ede",
   "metadata": {},
   "outputs": [],
   "source": [
    "temp2 = FakePT(\n",
    "    template=\"Explain it {response}\",\n",
    "    input_variables=['response']\n",
    ")"
   ]
  },
  {
   "cell_type": "code",
   "execution_count": 57,
   "id": "287122cc",
   "metadata": {},
   "outputs": [
    {
     "name": "stdout",
     "output_type": "stream",
     "text": [
      "LLM Created\n"
     ]
    }
   ],
   "source": [
    "llm1 = FakeLLM()"
   ]
  },
  {
   "cell_type": "code",
   "execution_count": 58,
   "id": "be340286",
   "metadata": {},
   "outputs": [],
   "source": [
    "parser = FakeStrOutputParser()"
   ]
  },
  {
   "cell_type": "code",
   "execution_count": 63,
   "id": "88f5289f",
   "metadata": {},
   "outputs": [],
   "source": [
    "chain1 = RunnableConnector([temp1,llm])"
   ]
  },
  {
   "cell_type": "code",
   "execution_count": 71,
   "id": "abe8017a",
   "metadata": {},
   "outputs": [],
   "source": [
    "chain2 = RunnableConnector([temp2, llm, parser])\n"
   ]
  },
  {
   "cell_type": "code",
   "execution_count": 72,
   "id": "21afb9ce",
   "metadata": {},
   "outputs": [],
   "source": [
    "chain3 = RunnableConnector([chain1, chain2])"
   ]
  },
  {
   "cell_type": "code",
   "execution_count": 73,
   "id": "7b93259c",
   "metadata": {},
   "outputs": [
    {
     "data": {
      "text/plain": [
       "'Today is thursday'"
      ]
     },
     "execution_count": 73,
     "metadata": {},
     "output_type": "execute_result"
    }
   ],
   "source": [
    "chain3.invoke({\"topic\": \"Human\"})"
   ]
  }
 ],
 "metadata": {
  "kernelspec": {
   "display_name": "my_env",
   "language": "python",
   "name": "python3"
  },
  "language_info": {
   "codemirror_mode": {
    "name": "ipython",
    "version": 3
   },
   "file_extension": ".py",
   "mimetype": "text/x-python",
   "name": "python",
   "nbconvert_exporter": "python",
   "pygments_lexer": "ipython3",
   "version": "3.12.1"
  }
 },
 "nbformat": 4,
 "nbformat_minor": 5
}
