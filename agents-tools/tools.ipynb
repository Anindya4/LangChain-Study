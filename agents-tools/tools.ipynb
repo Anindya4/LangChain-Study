{
 "cells": [
  {
   "cell_type": "markdown",
   "id": "84acf0fc",
   "metadata": {},
   "source": [
    "# AI Agents tools is LangChain"
   ]
  },
  {
   "cell_type": "code",
   "execution_count": 3,
   "id": "36837f62",
   "metadata": {},
   "outputs": [
    {
     "name": "stdout",
     "output_type": "stream",
     "text": [
      "Requirement already satisfied: duckduckgo-search in d:\\programing\\langchain\\my_env\\lib\\site-packages (8.1.1)\n",
      "Requirement already satisfied: langchain_experimental in d:\\programing\\langchain\\my_env\\lib\\site-packages (0.3.4)\n",
      "Collecting ddgs\n",
      "  Downloading ddgs-9.6.1-py3-none-any.whl.metadata (18 kB)\n",
      "Requirement already satisfied: click>=8.1.8 in d:\\programing\\langchain\\my_env\\lib\\site-packages (from duckduckgo-search) (8.2.1)\n",
      "Requirement already satisfied: primp>=0.15.0 in d:\\programing\\langchain\\my_env\\lib\\site-packages (from duckduckgo-search) (0.15.0)\n",
      "Requirement already satisfied: lxml>=5.3.0 in d:\\programing\\langchain\\my_env\\lib\\site-packages (from duckduckgo-search) (6.0.2)\n",
      "Requirement already satisfied: langchain-community<0.4.0,>=0.3.0 in d:\\programing\\langchain\\my_env\\lib\\site-packages (from langchain_experimental) (0.3.31)\n",
      "Requirement already satisfied: langchain-core<0.4.0,>=0.3.28 in d:\\programing\\langchain\\my_env\\lib\\site-packages (from langchain_experimental) (0.3.79)\n",
      "Requirement already satisfied: langchain<2.0.0,>=0.3.27 in d:\\programing\\langchain\\my_env\\lib\\site-packages (from langchain-community<0.4.0,>=0.3.0->langchain_experimental) (0.3.27)\n",
      "Requirement already satisfied: SQLAlchemy<3.0.0,>=1.4.0 in d:\\programing\\langchain\\my_env\\lib\\site-packages (from langchain-community<0.4.0,>=0.3.0->langchain_experimental) (2.0.43)\n",
      "Requirement already satisfied: requests<3.0.0,>=2.32.5 in d:\\programing\\langchain\\my_env\\lib\\site-packages (from langchain-community<0.4.0,>=0.3.0->langchain_experimental) (2.32.5)\n",
      "Requirement already satisfied: PyYAML<7.0.0,>=5.3.0 in d:\\programing\\langchain\\my_env\\lib\\site-packages (from langchain-community<0.4.0,>=0.3.0->langchain_experimental) (6.0.2)\n",
      "Requirement already satisfied: aiohttp<4.0.0,>=3.8.3 in d:\\programing\\langchain\\my_env\\lib\\site-packages (from langchain-community<0.4.0,>=0.3.0->langchain_experimental) (3.13.0)\n",
      "Requirement already satisfied: tenacity!=8.4.0,<10.0.0,>=8.1.0 in d:\\programing\\langchain\\my_env\\lib\\site-packages (from langchain-community<0.4.0,>=0.3.0->langchain_experimental) (9.1.2)\n",
      "Requirement already satisfied: dataclasses-json<0.7.0,>=0.6.7 in d:\\programing\\langchain\\my_env\\lib\\site-packages (from langchain-community<0.4.0,>=0.3.0->langchain_experimental) (0.6.7)\n",
      "Requirement already satisfied: pydantic-settings<3.0.0,>=2.10.1 in d:\\programing\\langchain\\my_env\\lib\\site-packages (from langchain-community<0.4.0,>=0.3.0->langchain_experimental) (2.11.0)\n",
      "Requirement already satisfied: langsmith<1.0.0,>=0.1.125 in d:\\programing\\langchain\\my_env\\lib\\site-packages (from langchain-community<0.4.0,>=0.3.0->langchain_experimental) (0.4.27)\n",
      "Requirement already satisfied: httpx-sse<1.0.0,>=0.4.0 in d:\\programing\\langchain\\my_env\\lib\\site-packages (from langchain-community<0.4.0,>=0.3.0->langchain_experimental) (0.4.3)\n",
      "Requirement already satisfied: numpy>=1.26.2 in d:\\programing\\langchain\\my_env\\lib\\site-packages (from langchain-community<0.4.0,>=0.3.0->langchain_experimental) (2.3.3)\n",
      "Requirement already satisfied: aiohappyeyeballs>=2.5.0 in d:\\programing\\langchain\\my_env\\lib\\site-packages (from aiohttp<4.0.0,>=3.8.3->langchain-community<0.4.0,>=0.3.0->langchain_experimental) (2.6.1)\n",
      "Requirement already satisfied: aiosignal>=1.4.0 in d:\\programing\\langchain\\my_env\\lib\\site-packages (from aiohttp<4.0.0,>=3.8.3->langchain-community<0.4.0,>=0.3.0->langchain_experimental) (1.4.0)\n",
      "Requirement already satisfied: attrs>=17.3.0 in d:\\programing\\langchain\\my_env\\lib\\site-packages (from aiohttp<4.0.0,>=3.8.3->langchain-community<0.4.0,>=0.3.0->langchain_experimental) (25.3.0)\n",
      "Requirement already satisfied: frozenlist>=1.1.1 in d:\\programing\\langchain\\my_env\\lib\\site-packages (from aiohttp<4.0.0,>=3.8.3->langchain-community<0.4.0,>=0.3.0->langchain_experimental) (1.8.0)\n",
      "Requirement already satisfied: multidict<7.0,>=4.5 in d:\\programing\\langchain\\my_env\\lib\\site-packages (from aiohttp<4.0.0,>=3.8.3->langchain-community<0.4.0,>=0.3.0->langchain_experimental) (6.7.0)\n",
      "Requirement already satisfied: propcache>=0.2.0 in d:\\programing\\langchain\\my_env\\lib\\site-packages (from aiohttp<4.0.0,>=3.8.3->langchain-community<0.4.0,>=0.3.0->langchain_experimental) (0.4.1)\n",
      "Requirement already satisfied: yarl<2.0,>=1.17.0 in d:\\programing\\langchain\\my_env\\lib\\site-packages (from aiohttp<4.0.0,>=3.8.3->langchain-community<0.4.0,>=0.3.0->langchain_experimental) (1.22.0)\n",
      "Requirement already satisfied: marshmallow<4.0.0,>=3.18.0 in d:\\programing\\langchain\\my_env\\lib\\site-packages (from dataclasses-json<0.7.0,>=0.6.7->langchain-community<0.4.0,>=0.3.0->langchain_experimental) (3.26.1)\n",
      "Requirement already satisfied: typing-inspect<1,>=0.4.0 in d:\\programing\\langchain\\my_env\\lib\\site-packages (from dataclasses-json<0.7.0,>=0.6.7->langchain-community<0.4.0,>=0.3.0->langchain_experimental) (0.9.0)\n",
      "Requirement already satisfied: langchain-text-splitters<1.0.0,>=0.3.9 in d:\\programing\\langchain\\my_env\\lib\\site-packages (from langchain<2.0.0,>=0.3.27->langchain-community<0.4.0,>=0.3.0->langchain_experimental) (0.3.11)\n",
      "Requirement already satisfied: pydantic<3.0.0,>=2.7.4 in d:\\programing\\langchain\\my_env\\lib\\site-packages (from langchain<2.0.0,>=0.3.27->langchain-community<0.4.0,>=0.3.0->langchain_experimental) (2.11.7)\n",
      "Requirement already satisfied: jsonpatch<2.0.0,>=1.33.0 in d:\\programing\\langchain\\my_env\\lib\\site-packages (from langchain-core<0.4.0,>=0.3.28->langchain_experimental) (1.33)\n",
      "Requirement already satisfied: typing-extensions<5.0.0,>=4.7.0 in d:\\programing\\langchain\\my_env\\lib\\site-packages (from langchain-core<0.4.0,>=0.3.28->langchain_experimental) (4.15.0)\n",
      "Requirement already satisfied: packaging<26.0.0,>=23.2.0 in d:\\programing\\langchain\\my_env\\lib\\site-packages (from langchain-core<0.4.0,>=0.3.28->langchain_experimental) (25.0)\n",
      "Requirement already satisfied: jsonpointer>=1.9 in d:\\programing\\langchain\\my_env\\lib\\site-packages (from jsonpatch<2.0.0,>=1.33.0->langchain-core<0.4.0,>=0.3.28->langchain_experimental) (3.0.0)\n",
      "Requirement already satisfied: httpx<1,>=0.23.0 in d:\\programing\\langchain\\my_env\\lib\\site-packages (from langsmith<1.0.0,>=0.1.125->langchain-community<0.4.0,>=0.3.0->langchain_experimental) (0.28.1)\n",
      "Requirement already satisfied: orjson>=3.9.14 in d:\\programing\\langchain\\my_env\\lib\\site-packages (from langsmith<1.0.0,>=0.1.125->langchain-community<0.4.0,>=0.3.0->langchain_experimental) (3.11.3)\n",
      "Requirement already satisfied: requests-toolbelt>=1.0.0 in d:\\programing\\langchain\\my_env\\lib\\site-packages (from langsmith<1.0.0,>=0.1.125->langchain-community<0.4.0,>=0.3.0->langchain_experimental) (1.0.0)\n",
      "Requirement already satisfied: zstandard>=0.23.0 in d:\\programing\\langchain\\my_env\\lib\\site-packages (from langsmith<1.0.0,>=0.1.125->langchain-community<0.4.0,>=0.3.0->langchain_experimental) (0.24.0)\n",
      "Requirement already satisfied: anyio in d:\\programing\\langchain\\my_env\\lib\\site-packages (from httpx<1,>=0.23.0->langsmith<1.0.0,>=0.1.125->langchain-community<0.4.0,>=0.3.0->langchain_experimental) (4.10.0)\n",
      "Requirement already satisfied: certifi in d:\\programing\\langchain\\my_env\\lib\\site-packages (from httpx<1,>=0.23.0->langsmith<1.0.0,>=0.1.125->langchain-community<0.4.0,>=0.3.0->langchain_experimental) (2025.8.3)\n",
      "Requirement already satisfied: httpcore==1.* in d:\\programing\\langchain\\my_env\\lib\\site-packages (from httpx<1,>=0.23.0->langsmith<1.0.0,>=0.1.125->langchain-community<0.4.0,>=0.3.0->langchain_experimental) (1.0.9)\n",
      "Requirement already satisfied: idna in d:\\programing\\langchain\\my_env\\lib\\site-packages (from httpx<1,>=0.23.0->langsmith<1.0.0,>=0.1.125->langchain-community<0.4.0,>=0.3.0->langchain_experimental) (3.10)\n",
      "Requirement already satisfied: h11>=0.16 in d:\\programing\\langchain\\my_env\\lib\\site-packages (from httpcore==1.*->httpx<1,>=0.23.0->langsmith<1.0.0,>=0.1.125->langchain-community<0.4.0,>=0.3.0->langchain_experimental) (0.16.0)\n",
      "Requirement already satisfied: annotated-types>=0.6.0 in d:\\programing\\langchain\\my_env\\lib\\site-packages (from pydantic<3.0.0,>=2.7.4->langchain<2.0.0,>=0.3.27->langchain-community<0.4.0,>=0.3.0->langchain_experimental) (0.7.0)\n",
      "Requirement already satisfied: pydantic-core==2.33.2 in d:\\programing\\langchain\\my_env\\lib\\site-packages (from pydantic<3.0.0,>=2.7.4->langchain<2.0.0,>=0.3.27->langchain-community<0.4.0,>=0.3.0->langchain_experimental) (2.33.2)\n",
      "Requirement already satisfied: typing-inspection>=0.4.0 in d:\\programing\\langchain\\my_env\\lib\\site-packages (from pydantic<3.0.0,>=2.7.4->langchain<2.0.0,>=0.3.27->langchain-community<0.4.0,>=0.3.0->langchain_experimental) (0.4.1)\n",
      "Requirement already satisfied: python-dotenv>=0.21.0 in d:\\programing\\langchain\\my_env\\lib\\site-packages (from pydantic-settings<3.0.0,>=2.10.1->langchain-community<0.4.0,>=0.3.0->langchain_experimental) (1.1.1)\n",
      "Requirement already satisfied: charset_normalizer<4,>=2 in d:\\programing\\langchain\\my_env\\lib\\site-packages (from requests<3.0.0,>=2.32.5->langchain-community<0.4.0,>=0.3.0->langchain_experimental) (3.4.3)\n",
      "Requirement already satisfied: urllib3<3,>=1.21.1 in d:\\programing\\langchain\\my_env\\lib\\site-packages (from requests<3.0.0,>=2.32.5->langchain-community<0.4.0,>=0.3.0->langchain_experimental) (2.3.0)\n",
      "Requirement already satisfied: greenlet>=1 in d:\\programing\\langchain\\my_env\\lib\\site-packages (from SQLAlchemy<3.0.0,>=1.4.0->langchain-community<0.4.0,>=0.3.0->langchain_experimental) (3.2.4)\n",
      "Requirement already satisfied: mypy-extensions>=0.3.0 in d:\\programing\\langchain\\my_env\\lib\\site-packages (from typing-inspect<1,>=0.4.0->dataclasses-json<0.7.0,>=0.6.7->langchain-community<0.4.0,>=0.3.0->langchain_experimental) (1.1.0)\n",
      "Requirement already satisfied: colorama in d:\\programing\\langchain\\my_env\\lib\\site-packages (from click>=8.1.8->duckduckgo-search) (0.4.6)\n",
      "Collecting brotli (from httpx[brotli,http2,socks]>=0.28.1->ddgs)\n",
      "  Using cached Brotli-1.1.0-cp312-cp312-win_amd64.whl.metadata (5.6 kB)\n",
      "Collecting h2<5,>=3 (from httpx[brotli,http2,socks]>=0.28.1->ddgs)\n",
      "  Downloading h2-4.3.0-py3-none-any.whl.metadata (5.1 kB)\n",
      "Collecting socksio==1.* (from httpx[brotli,http2,socks]>=0.28.1->ddgs)\n",
      "  Downloading socksio-1.0.0-py3-none-any.whl.metadata (6.1 kB)\n",
      "Collecting hyperframe<7,>=6.1 (from h2<5,>=3->httpx[brotli,http2,socks]>=0.28.1->ddgs)\n",
      "  Downloading hyperframe-6.1.0-py3-none-any.whl.metadata (4.3 kB)\n",
      "Collecting hpack<5,>=4.1 (from h2<5,>=3->httpx[brotli,http2,socks]>=0.28.1->ddgs)\n",
      "  Downloading hpack-4.1.0-py3-none-any.whl.metadata (4.6 kB)\n",
      "Requirement already satisfied: sniffio>=1.1 in d:\\programing\\langchain\\my_env\\lib\\site-packages (from anyio->httpx<1,>=0.23.0->langsmith<1.0.0,>=0.1.125->langchain-community<0.4.0,>=0.3.0->langchain_experimental) (1.3.1)\n",
      "Downloading ddgs-9.6.1-py3-none-any.whl (41 kB)\n",
      "Downloading h2-4.3.0-py3-none-any.whl (61 kB)\n",
      "Downloading hpack-4.1.0-py3-none-any.whl (34 kB)\n",
      "Downloading hyperframe-6.1.0-py3-none-any.whl (13 kB)\n",
      "Downloading socksio-1.0.0-py3-none-any.whl (12 kB)\n",
      "Using cached Brotli-1.1.0-cp312-cp312-win_amd64.whl (357 kB)\n",
      "Installing collected packages: brotli, socksio, hyperframe, hpack, h2, ddgs\n",
      "\n",
      "   ------------- -------------------------- 2/6 [hyperframe]\n",
      "   -------------------- ------------------- 3/6 [hpack]\n",
      "   -------------------------- ------------- 4/6 [h2]\n",
      "   --------------------------------- ------ 5/6 [ddgs]\n",
      "   --------------------------------- ------ 5/6 [ddgs]\n",
      "   --------------------------------- ------ 5/6 [ddgs]\n",
      "   ---------------------------------------- 6/6 [ddgs]\n",
      "\n",
      "Successfully installed brotli-1.1.0 ddgs-9.6.1 h2-4.3.0 hpack-4.1.0 hyperframe-6.1.0 socksio-1.0.0\n",
      "Note: you may need to restart the kernel to use updated packages.\n"
     ]
    }
   ],
   "source": [
    "# Installing some dependencies:\n",
    "%pip install duckduckgo-search langchain_experimental ddgs"
   ]
  },
  {
   "cell_type": "markdown",
   "id": "002d9b6c",
   "metadata": {},
   "source": [
    "## Built-in-tool ***DuckDuckGoSearch***"
   ]
  },
  {
   "cell_type": "code",
   "execution_count": 8,
   "id": "730b234e",
   "metadata": {},
   "outputs": [
    {
     "name": "stdout",
     "output_type": "stream",
     "text": [
      "Nvidia has released many cards that support RTX , including the 20, 30, 40, and 50 series:[14]. An OpenCL benchmark result of Nvidia ' s upcoming RTX Pro 6000 Blackwell Workstation Edition graphics card has emerged, confirming rumored specifications of the GPU and memory while raising questions about performance. Meet NVIDIA RTX PRO 6000 Blackwell — the most powerful desktop GPU ever built, ready to conquer advanced models and demanding creative workflows.GE Healthcare. NVIDIA Blackwell GPUs have been 2.5X faster than RTX 6000 Ada for AI training. The RTX Pro 6000 Blackwell for workstations will ship with 96GB of GDDR7 memory and needs 600 watts of power, slightly more than the 575 watts of the RTX 5090. The GPU even looks similar to the RTX 5090, and has double-flow-through cooling, 24,064 CUDA cores , a 512-bit memory... The Nvidia RTX Pro 6000 professional graphics card is based on the same GB202 graphics chip as the gaming RTX 5090. But it has more computing units — 24,064 shader cores versus 21,760, as well as more TMU, ROP, tensor, and RT cores .\n"
     ]
    }
   ],
   "source": [
    "from langchain_community.tools import DuckDuckGoSearchRun\n",
    "\n",
    "search = DuckDuckGoSearchRun()\n",
    "\n",
    "print(search.invoke(\"How many cuda cores does nvidias RTX PRO 6000 has?\"))"
   ]
  },
  {
   "cell_type": "markdown",
   "id": "f5e2e419",
   "metadata": {},
   "source": [
    "## Built-in-tool ***Shell-Tool***"
   ]
  },
  {
   "cell_type": "code",
   "execution_count": null,
   "id": "0ea1b6e4",
   "metadata": {},
   "outputs": [
    {
     "name": "stderr",
     "output_type": "stream",
     "text": [
      "d:\\Programing\\LangChain\\my_env\\Lib\\site-packages\\langchain_community\\tools\\shell\\tool.py:33: UserWarning: The shell tool has no safeguards by default. Use at your own risk.\n",
      "  warnings.warn(\n"
     ]
    },
    {
     "name": "stdout",
     "output_type": "stream",
     "text": [
      "Executing command:\n",
      " pip show langchain\n",
      "Name: langchain\n",
      "Version: 0.3.27\n",
      "Summary: Building applications with LLMs through composability\n",
      "Home-page: \n",
      "Author: \n",
      "Author-email: \n",
      "License: MIT\n",
      "Location: D:\\Programing\\LangChain\\my_env\\Lib\\site-packages\n",
      "Requires: langchain-core, langchain-text-splitters, langsmith, pydantic, PyYAML, requests, SQLAlchemy\n",
      "Required-by: langchain-community\n",
      "\n"
     ]
    }
   ],
   "source": [
    "from langchain_community.tools import ShellTool\n",
    "\n",
    "st = ShellTool()\n",
    "\n",
    "# print(st._run('pip show langchain'))\n",
    "print(st.invoke('pip show langchain'))\n",
    "\n",
    "\"\"\"Both the invoke and _run does the same thing\"\"\""
   ]
  },
  {
   "cell_type": "markdown",
   "id": "32ba351f",
   "metadata": {},
   "source": [
    "There are others tools available as well. Visit Langchain official site for better understanding"
   ]
  },
  {
   "cell_type": "markdown",
   "id": "b7f3aa22",
   "metadata": {},
   "source": [
    "# Custom Tools in LangChain"
   ]
  },
  {
   "cell_type": "markdown",
   "id": "449afc0a",
   "metadata": {},
   "source": [
    "## Creating my own tool:"
   ]
  },
  {
   "cell_type": "markdown",
   "id": "e3b4b91d",
   "metadata": {},
   "source": [
    "#### **Method-1** using `decorator` method"
   ]
  },
  {
   "cell_type": "code",
   "execution_count": 2,
   "id": "f437e5f1",
   "metadata": {},
   "outputs": [],
   "source": [
    "# importing library:\n",
    "from langchain_core.tools import tool"
   ]
  },
  {
   "cell_type": "code",
   "execution_count": null,
   "id": "5e06533a",
   "metadata": {},
   "outputs": [],
   "source": [
    "# Creating a simple tool for multiply two int:\n",
    "\n",
    "@tool   #-> this decorator make the simple python function operable as tool in langchain, this also make the func a runnable obj\n",
    "def multiply(a: int, b: int) -> int:\n",
    "    \"\"\"Multiply two numbers.\"\"\"\n",
    "    return (a*b)"
   ]
  },
  {
   "cell_type": "code",
   "execution_count": 34,
   "id": "8e3c7e52",
   "metadata": {},
   "outputs": [
    {
     "data": {
      "text/plain": [
       "150"
      ]
     },
     "execution_count": 34,
     "metadata": {},
     "output_type": "execute_result"
    }
   ],
   "source": [
    "# try:\n",
    "multiply.invoke({'a':10, 'b':15})"
   ]
  },
  {
   "cell_type": "code",
   "execution_count": 10,
   "id": "21b4a689",
   "metadata": {},
   "outputs": [
    {
     "name": "stdout",
     "output_type": "stream",
     "text": [
      "multiply\n",
      "{'a': {'title': 'A', 'type': 'integer'}, 'b': {'title': 'B', 'type': 'integer'}}\n",
      "Multiply two numbers.\n"
     ]
    }
   ],
   "source": [
    "print(multiply.name)\n",
    "print(multiply.args)\n",
    "print(multiply.description)"
   ]
  },
  {
   "cell_type": "code",
   "execution_count": 11,
   "id": "ea97d900",
   "metadata": {},
   "outputs": [
    {
     "name": "stdout",
     "output_type": "stream",
     "text": [
      "{'description': 'Multiply two numbers.', 'properties': {'a': {'title': 'A', 'type': 'integer'}, 'b': {'title': 'B', 'type': 'integer'}}, 'required': ['a', 'b'], 'title': 'multiply', 'type': 'object'}\n"
     ]
    }
   ],
   "source": [
    "print(multiply.args_schema.model_json_schema())"
   ]
  },
  {
   "cell_type": "markdown",
   "id": "3a04348b",
   "metadata": {},
   "source": [
    "#### **Method-2** using `pydantic+structured_tool` method"
   ]
  },
  {
   "cell_type": "code",
   "execution_count": 16,
   "id": "a861fb41",
   "metadata": {},
   "outputs": [],
   "source": [
    "# Importing libraries:\n",
    "from pydantic import BaseModel, Field\n",
    "from langchain_core.tools import StructuredTool"
   ]
  },
  {
   "cell_type": "code",
   "execution_count": 27,
   "id": "93aec1d9",
   "metadata": {},
   "outputs": [],
   "source": [
    "# creating pydantic class:\n",
    "class NumberCheck(BaseModel):\n",
    "    a: int = Field(...,gt=0, description=\"Enter the number\")"
   ]
  },
  {
   "cell_type": "code",
   "execution_count": 28,
   "id": "5236f7d6",
   "metadata": {},
   "outputs": [],
   "source": [
    "# define the function:\n",
    "def check_even_odd(a):\n",
    "    if a % 2 == 0:\n",
    "        return \"Even\"\n",
    "    else:\n",
    "        return \"Odd\""
   ]
  },
  {
   "cell_type": "code",
   "execution_count": 29,
   "id": "b85ae8ee",
   "metadata": {},
   "outputs": [],
   "source": [
    "odd_even_tool = StructuredTool.from_function(\n",
    "    func=check_even_odd,\n",
    "    name=\"Odd-Even-Checker\",\n",
    "    description=\"Check whether a number is odd or even\",\n",
    "    args_schema=NumberCheck\n",
    ")"
   ]
  },
  {
   "cell_type": "code",
   "execution_count": 33,
   "id": "aa846f9c",
   "metadata": {},
   "outputs": [
    {
     "data": {
      "text/plain": [
       "'Even'"
      ]
     },
     "execution_count": 33,
     "metadata": {},
     "output_type": "execute_result"
    }
   ],
   "source": [
    "odd_even_tool.invoke({'a':3354351351436})"
   ]
  },
  {
   "cell_type": "code",
   "execution_count": 36,
   "id": "26258c9a",
   "metadata": {},
   "outputs": [
    {
     "name": "stdout",
     "output_type": "stream",
     "text": [
      "Odd-Even-Checker\n",
      "Check whether a number is odd or even\n",
      "{'a': {'description': 'Enter the number', 'exclusiveMinimum': 0, 'title': 'A', 'type': 'integer'}}\n"
     ]
    }
   ],
   "source": [
    "print(odd_even_tool.name)\n",
    "print(odd_even_tool.description)\n",
    "print(odd_even_tool.args)"
   ]
  },
  {
   "cell_type": "markdown",
   "id": "3c220068",
   "metadata": {},
   "source": [
    "#### **Method-3** using `BaseTool` class method"
   ]
  },
  {
   "cell_type": "code",
   "execution_count": 60,
   "id": "0778e09a",
   "metadata": {},
   "outputs": [],
   "source": [
    "#import libraries:\n",
    "from langchain.tools import BaseTool\n",
    "from pydantic import BaseModel, Field\n",
    "from typing import Type"
   ]
  },
  {
   "cell_type": "code",
   "execution_count": 61,
   "id": "58afa8c7",
   "metadata": {},
   "outputs": [],
   "source": [
    "# creating pydantic class:\n",
    "class NumberCheck(BaseModel):\n",
    "    a: int = Field(...,gt=0, description=\"Enter the number\")"
   ]
  },
  {
   "cell_type": "code",
   "execution_count": 71,
   "id": "328d8a4a",
   "metadata": {},
   "outputs": [],
   "source": [
    "# define the function using BaseTool:\n",
    "\n",
    "class OddEvenTool(BaseTool):\n",
    "    name: str = \"Odd Even Checker\"\n",
    "    description: str = \"Determines whether a number is Odd or Even\"\n",
    "    args_schema: Type[BaseModel] = NumberCheck\n",
    "    \n",
    "    def _run(self, a : int) -> str:\n",
    "        if a % 2 == 0:\n",
    "            return \"Even\"\n",
    "        else:\n",
    "            return \"Odd\" \n",
    "    \n"
   ]
  },
  {
   "cell_type": "code",
   "execution_count": 72,
   "id": "f845ee85",
   "metadata": {},
   "outputs": [],
   "source": [
    "odd_even = OddEvenTool()"
   ]
  },
  {
   "cell_type": "code",
   "execution_count": 75,
   "id": "7bc3c5b6",
   "metadata": {},
   "outputs": [
    {
     "data": {
      "text/plain": [
       "'Odd'"
      ]
     },
     "execution_count": 75,
     "metadata": {},
     "output_type": "execute_result"
    }
   ],
   "source": [
    "odd_even.invoke({'a': 111})"
   ]
  }
 ],
 "metadata": {
  "kernelspec": {
   "display_name": "my_env",
   "language": "python",
   "name": "python3"
  },
  "language_info": {
   "codemirror_mode": {
    "name": "ipython",
    "version": 3
   },
   "file_extension": ".py",
   "mimetype": "text/x-python",
   "name": "python",
   "nbconvert_exporter": "python",
   "pygments_lexer": "ipython3",
   "version": "3.12.1"
  }
 },
 "nbformat": 4,
 "nbformat_minor": 5
}
