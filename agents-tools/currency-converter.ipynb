{
 "cells": [
  {
   "cell_type": "markdown",
   "id": "02f9367d",
   "metadata": {},
   "source": [
    "# *A currency converter using real time data from API with LLM*"
   ]
  },
  {
   "cell_type": "markdown",
   "id": "edcde0fc",
   "metadata": {},
   "source": [
    "#### Imports"
   ]
  },
  {
   "cell_type": "code",
   "execution_count": 1,
   "id": "cc496d6a",
   "metadata": {},
   "outputs": [],
   "source": [
    "# libraries\n",
    "import requests\n",
    "from langchain_openai import ChatOpenAI\n",
    "from langchain_community.tools import tool\n",
    "from langchain_core.messages import HumanMessage"
   ]
  },
  {
   "cell_type": "code",
   "execution_count": 2,
   "id": "d9236112",
   "metadata": {},
   "outputs": [
    {
     "data": {
      "text/plain": [
       "True"
      ]
     },
     "execution_count": 2,
     "metadata": {},
     "output_type": "execute_result"
    }
   ],
   "source": [
    "#API Key:\n",
    "from dotenv import load_dotenv\n",
    "load_dotenv()"
   ]
  },
  {
   "cell_type": "markdown",
   "id": "ba43f0d2",
   "metadata": {},
   "source": [
    "#### Creating the tool"
   ]
  },
  {
   "cell_type": "code",
   "execution_count": 3,
   "id": "81614973",
   "metadata": {},
   "outputs": [],
   "source": [
    "from langchain_core.tools import InjectedToolArg\n",
    "from typing import Annotated\n",
    "\n",
    "@tool\n",
    "def get_conversion_rate(base_currency: str, target_currency: str) -> float:\n",
    "    \"\"\"\n",
    "    This function fetches the currency conversion factor between a given base currency and a target currency\n",
    "    \n",
    "    Args:\n",
    "        base_currency: str - The source currency code (e.g., USD)\n",
    "        target_currency: str - The target currency code (e.g., INR)\n",
    "    Returns:\n",
    "        float: The conversion rate from base to target currency\n",
    "    \"\"\"\n",
    "    \n",
    "    url = f'https://v6.exchangerate-api.com/v6/653db55b557f2e895e615492/pair/{base_currency}/{target_currency}'\n",
    "    \n",
    "    response = requests.get(url)\n",
    "    return response.json()\n",
    "\n",
    "\n",
    "@tool\n",
    "def convert(base_currency_value: float, conversion_rate: Annotated[float, InjectedToolArg]) -> float:\n",
    "    \"\"\"Given a currency conversion rate, this function calculates the target currency value from a given base currency value\n",
    "    Args:\n",
    "        base_currency_value: float - The amount to convert\n",
    "        conversion_rate: float - The conversion rate to apply\n",
    "    Returns:\n",
    "        float: The converted amount in target currency\n",
    "    \"\"\"\n",
    "    return base_currency_value * conversion_rate"
   ]
  },
  {
   "cell_type": "code",
   "execution_count": 4,
   "id": "faf6ef49",
   "metadata": {},
   "outputs": [
    {
     "data": {
      "text/plain": [
       "{'result': 'success',\n",
       " 'documentation': 'https://www.exchangerate-api.com/docs',\n",
       " 'terms_of_use': 'https://www.exchangerate-api.com/terms',\n",
       " 'time_last_update_unix': 1760745601,\n",
       " 'time_last_update_utc': 'Sat, 18 Oct 2025 00:00:01 +0000',\n",
       " 'time_next_update_unix': 1760832001,\n",
       " 'time_next_update_utc': 'Sun, 19 Oct 2025 00:00:01 +0000',\n",
       " 'base_code': 'USD',\n",
       " 'target_code': 'INR',\n",
       " 'conversion_rate': 88.0103}"
      ]
     },
     "execution_count": 4,
     "metadata": {},
     "output_type": "execute_result"
    }
   ],
   "source": [
    "get_conversion_rate.invoke({'base_currency':'USD', 'target_currency':'INR'})"
   ]
  },
  {
   "cell_type": "code",
   "execution_count": 5,
   "id": "ac8f15cf",
   "metadata": {},
   "outputs": [
    {
     "data": {
      "text/plain": [
       "875.8"
      ]
     },
     "execution_count": 5,
     "metadata": {},
     "output_type": "execute_result"
    }
   ],
   "source": [
    "convert.invoke({'base_currency_value':10,'conversion_rate':87.58})"
   ]
  },
  {
   "cell_type": "markdown",
   "id": "7505fc92",
   "metadata": {},
   "source": [
    "#### Creating LLM obj"
   ]
  },
  {
   "cell_type": "code",
   "execution_count": 6,
   "id": "05131451",
   "metadata": {},
   "outputs": [],
   "source": [
    "llm = ChatOpenAI()"
   ]
  },
  {
   "cell_type": "markdown",
   "id": "63c3e953",
   "metadata": {},
   "source": [
    "#### Binding tool with llm"
   ]
  },
  {
   "cell_type": "code",
   "execution_count": 7,
   "id": "da8e26aa",
   "metadata": {},
   "outputs": [],
   "source": [
    "llm_with_tools = llm.bind_tools([get_conversion_rate, convert])"
   ]
  },
  {
   "cell_type": "code",
   "execution_count": 8,
   "id": "9e1451a6",
   "metadata": {},
   "outputs": [
    {
     "data": {
      "text/plain": [
       "[HumanMessage(content='What is the conversion factor between INR and USD, and based on that can you convert 100000 inr to usd', additional_kwargs={}, response_metadata={})]"
      ]
     },
     "execution_count": 8,
     "metadata": {},
     "output_type": "execute_result"
    }
   ],
   "source": [
    "message = [HumanMessage(\"What is the conversion factor between INR and USD, and based on that can you convert 100000 inr to usd\")]\n",
    "message"
   ]
  },
  {
   "cell_type": "code",
   "execution_count": 9,
   "id": "2c941f57",
   "metadata": {},
   "outputs": [],
   "source": [
    "ai_message = llm_with_tools.invoke(message)"
   ]
  },
  {
   "cell_type": "code",
   "execution_count": 10,
   "id": "8317255e",
   "metadata": {},
   "outputs": [
    {
     "data": {
      "text/plain": [
       "AIMessage(content='', additional_kwargs={'tool_calls': [{'id': 'call_NZAIz2RO0fLMBfAV8QiPHkqA', 'function': {'arguments': '{\"base_currency\": \"INR\", \"target_currency\": \"USD\"}', 'name': 'get_conversion_rate'}, 'type': 'function'}, {'id': 'call_9lSkp0z3RzdGcM2ym3XAZvcV', 'function': {'arguments': '{\"base_currency_value\": 100000}', 'name': 'convert'}, 'type': 'function'}], 'refusal': None}, response_metadata={'token_usage': {'completion_tokens': 53, 'prompt_tokens': 217, 'total_tokens': 270, 'completion_tokens_details': {'accepted_prediction_tokens': 0, 'audio_tokens': 0, 'reasoning_tokens': 0, 'rejected_prediction_tokens': 0}, 'prompt_tokens_details': {'audio_tokens': 0, 'cached_tokens': 0}}, 'model_name': 'gpt-3.5-turbo-0125', 'system_fingerprint': None, 'id': 'chatcmpl-CRsDtASwp2qCSfFUIUBxlX9pPccpt', 'service_tier': 'default', 'finish_reason': 'tool_calls', 'logprobs': None}, id='run--b4828281-84a4-41b5-9409-819f4ac058a0-0', tool_calls=[{'name': 'get_conversion_rate', 'args': {'base_currency': 'INR', 'target_currency': 'USD'}, 'id': 'call_NZAIz2RO0fLMBfAV8QiPHkqA', 'type': 'tool_call'}, {'name': 'convert', 'args': {'base_currency_value': 100000}, 'id': 'call_9lSkp0z3RzdGcM2ym3XAZvcV', 'type': 'tool_call'}], usage_metadata={'input_tokens': 217, 'output_tokens': 53, 'total_tokens': 270, 'input_token_details': {'audio': 0, 'cache_read': 0}, 'output_token_details': {'audio': 0, 'reasoning': 0}})"
      ]
     },
     "execution_count": 10,
     "metadata": {},
     "output_type": "execute_result"
    }
   ],
   "source": [
    "ai_message"
   ]
  },
  {
   "cell_type": "code",
   "execution_count": 11,
   "id": "659da4c4",
   "metadata": {},
   "outputs": [],
   "source": [
    "message.append(ai_message)"
   ]
  },
  {
   "cell_type": "code",
   "execution_count": 12,
   "id": "4a5cd3c8",
   "metadata": {},
   "outputs": [
    {
     "data": {
      "text/plain": [
       "[{'name': 'get_conversion_rate',\n",
       "  'args': {'base_currency': 'INR', 'target_currency': 'USD'},\n",
       "  'id': 'call_NZAIz2RO0fLMBfAV8QiPHkqA',\n",
       "  'type': 'tool_call'},\n",
       " {'name': 'convert',\n",
       "  'args': {'base_currency_value': 100000},\n",
       "  'id': 'call_9lSkp0z3RzdGcM2ym3XAZvcV',\n",
       "  'type': 'tool_call'}]"
      ]
     },
     "execution_count": 12,
     "metadata": {},
     "output_type": "execute_result"
    }
   ],
   "source": [
    "ai_message.tool_calls"
   ]
  },
  {
   "cell_type": "code",
   "execution_count": 14,
   "id": "de4b72df",
   "metadata": {},
   "outputs": [],
   "source": [
    "import json\n",
    "\n",
    "for tool_call in ai_message.tool_calls:\n",
    "  # execute the 1st tool and get the value of conversion rate\n",
    "  if tool_call['name'] == 'get_conversion_rate':\n",
    "    tool_message1 = get_conversion_rate.invoke(tool_call)\n",
    "    # fetch this conversion rate\n",
    "    conversion_rate = json.loads(tool_message1.content)['conversion_rate']\n",
    "    # append this tool message to messages list\n",
    "    message.append(tool_message1)\n",
    "  # execute the 2nd tool using the conversion rate from tool 1\n",
    "  if tool_call['name'] == 'convert':\n",
    "    # fetch the current arg\n",
    "    tool_call['args']['conversion_rate'] = conversion_rate\n",
    "    tool_message2 = convert.invoke(tool_call)\n",
    "    message.append(tool_message2)"
   ]
  },
  {
   "cell_type": "code",
   "execution_count": 15,
   "id": "c4c1323d",
   "metadata": {},
   "outputs": [
    {
     "data": {
      "text/plain": [
       "[HumanMessage(content='What is the conversion factor between INR and USD, and based on that can you convert 100000 inr to usd', additional_kwargs={}, response_metadata={}),\n",
       " AIMessage(content='', additional_kwargs={'tool_calls': [{'id': 'call_NZAIz2RO0fLMBfAV8QiPHkqA', 'function': {'arguments': '{\"base_currency\": \"INR\", \"target_currency\": \"USD\"}', 'name': 'get_conversion_rate'}, 'type': 'function'}, {'id': 'call_9lSkp0z3RzdGcM2ym3XAZvcV', 'function': {'arguments': '{\"base_currency_value\": 100000}', 'name': 'convert'}, 'type': 'function'}], 'refusal': None}, response_metadata={'token_usage': {'completion_tokens': 53, 'prompt_tokens': 217, 'total_tokens': 270, 'completion_tokens_details': {'accepted_prediction_tokens': 0, 'audio_tokens': 0, 'reasoning_tokens': 0, 'rejected_prediction_tokens': 0}, 'prompt_tokens_details': {'audio_tokens': 0, 'cached_tokens': 0}}, 'model_name': 'gpt-3.5-turbo-0125', 'system_fingerprint': None, 'id': 'chatcmpl-CRsDtASwp2qCSfFUIUBxlX9pPccpt', 'service_tier': 'default', 'finish_reason': 'tool_calls', 'logprobs': None}, id='run--b4828281-84a4-41b5-9409-819f4ac058a0-0', tool_calls=[{'name': 'get_conversion_rate', 'args': {'base_currency': 'INR', 'target_currency': 'USD'}, 'id': 'call_NZAIz2RO0fLMBfAV8QiPHkqA', 'type': 'tool_call'}, {'name': 'convert', 'args': {'base_currency_value': 100000, 'conversion_rate': 0.01136}, 'id': 'call_9lSkp0z3RzdGcM2ym3XAZvcV', 'type': 'tool_call'}], usage_metadata={'input_tokens': 217, 'output_tokens': 53, 'total_tokens': 270, 'input_token_details': {'audio': 0, 'cache_read': 0}, 'output_token_details': {'audio': 0, 'reasoning': 0}}),\n",
       " ToolMessage(content='{\"result\": \"success\", \"documentation\": \"https://www.exchangerate-api.com/docs\", \"terms_of_use\": \"https://www.exchangerate-api.com/terms\", \"time_last_update_unix\": 1760745601, \"time_last_update_utc\": \"Sat, 18 Oct 2025 00:00:01 +0000\", \"time_next_update_unix\": 1760832001, \"time_next_update_utc\": \"Sun, 19 Oct 2025 00:00:01 +0000\", \"base_code\": \"INR\", \"target_code\": \"USD\", \"conversion_rate\": 0.01136}', name='get_conversion_rate', tool_call_id='call_NZAIz2RO0fLMBfAV8QiPHkqA'),\n",
       " ToolMessage(content='1136.0', name='convert', tool_call_id='call_9lSkp0z3RzdGcM2ym3XAZvcV')]"
      ]
     },
     "execution_count": 15,
     "metadata": {},
     "output_type": "execute_result"
    }
   ],
   "source": [
    "message"
   ]
  },
  {
   "cell_type": "code",
   "execution_count": 16,
   "id": "9b553732",
   "metadata": {},
   "outputs": [
    {
     "data": {
      "text/plain": [
       "AIMessage(content='The conversion factor between INR and USD is 0.01136. \\n\\nSo, if you convert 100,000 INR to USD, the equivalent amount is 1136 USD.', additional_kwargs={'refusal': None}, response_metadata={'token_usage': {'completion_tokens': 40, 'prompt_tokens': 430, 'total_tokens': 470, 'completion_tokens_details': {'accepted_prediction_tokens': 0, 'audio_tokens': 0, 'reasoning_tokens': 0, 'rejected_prediction_tokens': 0}, 'prompt_tokens_details': {'audio_tokens': 0, 'cached_tokens': 0}}, 'model_name': 'gpt-3.5-turbo-0125', 'system_fingerprint': None, 'id': 'chatcmpl-CRsEtI6wEya9YjnEv7gji3dTAc4z5', 'service_tier': 'default', 'finish_reason': 'stop', 'logprobs': None}, id='run--af14ee4b-c785-4bd9-ba99-4b43ef3bd158-0', usage_metadata={'input_tokens': 430, 'output_tokens': 40, 'total_tokens': 470, 'input_token_details': {'audio': 0, 'cache_read': 0}, 'output_token_details': {'audio': 0, 'reasoning': 0}})"
      ]
     },
     "execution_count": 16,
     "metadata": {},
     "output_type": "execute_result"
    }
   ],
   "source": [
    "llm_with_tools.invoke(message)"
   ]
  }
 ],
 "metadata": {
  "kernelspec": {
   "display_name": "my_env",
   "language": "python",
   "name": "python3"
  },
  "language_info": {
   "codemirror_mode": {
    "name": "ipython",
    "version": 3
   },
   "file_extension": ".py",
   "mimetype": "text/x-python",
   "name": "python",
   "nbconvert_exporter": "python",
   "pygments_lexer": "ipython3",
   "version": "3.12.1"
  }
 },
 "nbformat": 4,
 "nbformat_minor": 5
}
