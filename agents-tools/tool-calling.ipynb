{
 "cells": [
  {
   "cell_type": "code",
   "execution_count": 103,
   "id": "64b547e0",
   "metadata": {},
   "outputs": [],
   "source": [
    "# importing libraries:\n",
    "import requests, math\n",
    "from langchain_openai import ChatOpenAI\n",
    "from langchain_community.tools import tool\n",
    "from langchain_core.messages import HumanMessage"
   ]
  },
  {
   "cell_type": "code",
   "execution_count": 104,
   "id": "94bdd53b",
   "metadata": {},
   "outputs": [],
   "source": [
    "# creating a function:\n",
    "@tool\n",
    "def calculate_circle_area(radius : float)-> float:\n",
    "  \"\"\"\n",
    "  Calculates the area of a circle given its radius.\n",
    "  \n",
    "  Args:\n",
    "    radius: The radius of the circle.\n",
    "    \n",
    "  Returns:\n",
    "    The area of the circle.\n",
    "  \"\"\"\n",
    "  if radius < 0:\n",
    "    return \"Radius cannot be negative.\"\n",
    "  return f\"The Area of the circle for given radius is: {math.pi * (radius ** 2):.2f}\""
   ]
  },
  {
   "cell_type": "code",
   "execution_count": 105,
   "id": "b3fdc4e9",
   "metadata": {},
   "outputs": [
    {
     "name": "stdout",
     "output_type": "stream",
     "text": [
      "Calculates the area of a circle given its radius.\n",
      "\n",
      "Args:\n",
      "  radius: The radius of the circle.\n",
      "\n",
      "Returns:\n",
      "  The area of the circle.\n",
      "\n",
      "\n",
      "{'radius': {'title': 'Radius', 'type': 'number'}}\n"
     ]
    }
   ],
   "source": [
    "print(calculate_circle_area.description)\n",
    "print('\\n')\n",
    "print(calculate_circle_area.args)"
   ]
  },
  {
   "cell_type": "code",
   "execution_count": 106,
   "id": "645ec879",
   "metadata": {},
   "outputs": [
    {
     "name": "stdout",
     "output_type": "stream",
     "text": [
      "The Area of the circle for given radius is: 347.68\n"
     ]
    }
   ],
   "source": [
    "print(calculate_circle_area.invoke({'radius':10.52}))"
   ]
  },
  {
   "cell_type": "code",
   "execution_count": 107,
   "id": "b2401ee4",
   "metadata": {},
   "outputs": [
    {
     "data": {
      "text/plain": [
       "True"
      ]
     },
     "execution_count": 107,
     "metadata": {},
     "output_type": "execute_result"
    }
   ],
   "source": [
    "#import api key:\n",
    "from dotenv import load_dotenv\n",
    "load_dotenv()"
   ]
  },
  {
   "cell_type": "code",
   "execution_count": 108,
   "id": "3956da12",
   "metadata": {},
   "outputs": [],
   "source": [
    "# creating a llm obj:\n",
    "llm = ChatOpenAI(model='gpt-5-nano')"
   ]
  },
  {
   "cell_type": "code",
   "execution_count": 109,
   "id": "57d9ba30",
   "metadata": {},
   "outputs": [],
   "source": [
    "# llm.invoke('hi')"
   ]
  },
  {
   "cell_type": "code",
   "execution_count": 110,
   "id": "fd4316fa",
   "metadata": {},
   "outputs": [],
   "source": [
    "# blind tool with llm:\n",
    "llm_with_tool = llm.bind_tools([calculate_circle_area])"
   ]
  },
  {
   "cell_type": "code",
   "execution_count": 111,
   "id": "4bf5de70",
   "metadata": {},
   "outputs": [
    {
     "data": {
      "text/plain": [
       "AIMessage(content='Hi there! How can I help today?\\n\\nI can assist with:\\n- Quick math (e.g., circle area, percentages, algebra)\\n- Writing and editing (drafts, summaries, tone tweaks)\\n- Coding explanations or small scripts\\n- Planning and organization (study plans, project outlines)\\n- General knowledge and explanations\\n\\nIf you want a circle area, just tell me the radius and I’ll calculate it for you. For example, radius = 5 gives area = 78.54 (using pi ≈ 3.1416). What would you like to do?', additional_kwargs={'refusal': None}, response_metadata={'token_usage': {'completion_tokens': 510, 'prompt_tokens': 149, 'total_tokens': 659, 'completion_tokens_details': {'accepted_prediction_tokens': 0, 'audio_tokens': 0, 'reasoning_tokens': 384, 'rejected_prediction_tokens': 0}, 'prompt_tokens_details': {'audio_tokens': 0, 'cached_tokens': 0}}, 'model_name': 'gpt-5-nano-2025-08-07', 'system_fingerprint': None, 'id': 'chatcmpl-CRizvLU5x6qDjzXrgt4gyGOghsEin', 'service_tier': 'default', 'finish_reason': 'stop', 'logprobs': None}, id='run--8c7f560b-370d-442b-9cf4-ad18db563f4b-0', usage_metadata={'input_tokens': 149, 'output_tokens': 510, 'total_tokens': 659, 'input_token_details': {'audio': 0, 'cache_read': 0}, 'output_token_details': {'audio': 0, 'reasoning': 384}})"
      ]
     },
     "execution_count": 111,
     "metadata": {},
     "output_type": "execute_result"
    }
   ],
   "source": [
    "llm_with_tool.invoke('hi there')"
   ]
  },
  {
   "cell_type": "code",
   "execution_count": 112,
   "id": "2aea17f1",
   "metadata": {},
   "outputs": [
    {
     "data": {
      "text/plain": [
       "[{'name': 'calculate_circle_area',\n",
       "  'args': {'radius': 10},\n",
       "  'id': 'call_CGRtqG6ikDPg03Mj6UFz1EJm',\n",
       "  'type': 'tool_call'}]"
      ]
     },
     "execution_count": 112,
     "metadata": {},
     "output_type": "execute_result"
    }
   ],
   "source": [
    "llm_with_tool.invoke('find the area of a circle whose radius is 10').tool_calls\n"
   ]
  },
  {
   "cell_type": "code",
   "execution_count": 113,
   "id": "b06b6997",
   "metadata": {},
   "outputs": [],
   "source": [
    "query = HumanMessage(\"Find the area of the circle with radius 10\")"
   ]
  },
  {
   "cell_type": "code",
   "execution_count": 114,
   "id": "624edfaf",
   "metadata": {},
   "outputs": [
    {
     "data": {
      "text/plain": [
       "[HumanMessage(content='Find the area of the circle with radius 10', additional_kwargs={}, response_metadata={})]"
      ]
     },
     "execution_count": 114,
     "metadata": {},
     "output_type": "execute_result"
    }
   ],
   "source": [
    "message = [query]\n",
    "message"
   ]
  },
  {
   "cell_type": "code",
   "execution_count": 115,
   "id": "794e0436",
   "metadata": {},
   "outputs": [],
   "source": [
    "result = llm_with_tool.invoke(message)"
   ]
  },
  {
   "cell_type": "code",
   "execution_count": 116,
   "id": "4bab2076",
   "metadata": {},
   "outputs": [
    {
     "data": {
      "text/plain": [
       "{'name': 'calculate_circle_area',\n",
       " 'args': {'radius': 10},\n",
       " 'id': 'call_3mdFnCiMvswdy9v9XaQNxwYC',\n",
       " 'type': 'tool_call'}"
      ]
     },
     "execution_count": 116,
     "metadata": {},
     "output_type": "execute_result"
    }
   ],
   "source": [
    "result.tool_calls[0]"
   ]
  },
  {
   "cell_type": "code",
   "execution_count": 117,
   "id": "5d62c689",
   "metadata": {},
   "outputs": [],
   "source": [
    "message.append(result)"
   ]
  },
  {
   "cell_type": "code",
   "execution_count": 118,
   "id": "cf1bad6e",
   "metadata": {},
   "outputs": [
    {
     "data": {
      "text/plain": [
       "[HumanMessage(content='Find the area of the circle with radius 10', additional_kwargs={}, response_metadata={}),\n",
       " AIMessage(content='', additional_kwargs={'tool_calls': [{'id': 'call_3mdFnCiMvswdy9v9XaQNxwYC', 'function': {'arguments': '{\"radius\":10}', 'name': 'calculate_circle_area'}, 'type': 'function'}], 'refusal': None}, response_metadata={'token_usage': {'completion_tokens': 216, 'prompt_tokens': 157, 'total_tokens': 373, 'completion_tokens_details': {'accepted_prediction_tokens': 0, 'audio_tokens': 0, 'reasoning_tokens': 192, 'rejected_prediction_tokens': 0}, 'prompt_tokens_details': {'audio_tokens': 0, 'cached_tokens': 0}}, 'model_name': 'gpt-5-nano-2025-08-07', 'system_fingerprint': None, 'id': 'chatcmpl-CRj05ZQXtPAAkWG8TP56dIY0AsP6q', 'service_tier': 'default', 'finish_reason': 'tool_calls', 'logprobs': None}, id='run--06637bee-7a33-4a81-b92a-d28a9cfbfe15-0', tool_calls=[{'name': 'calculate_circle_area', 'args': {'radius': 10}, 'id': 'call_3mdFnCiMvswdy9v9XaQNxwYC', 'type': 'tool_call'}], usage_metadata={'input_tokens': 157, 'output_tokens': 216, 'total_tokens': 373, 'input_token_details': {'audio': 0, 'cache_read': 0}, 'output_token_details': {'audio': 0, 'reasoning': 192}})]"
      ]
     },
     "execution_count": 118,
     "metadata": {},
     "output_type": "execute_result"
    }
   ],
   "source": [
    "message"
   ]
  },
  {
   "cell_type": "code",
   "execution_count": 119,
   "id": "2bd1d05d",
   "metadata": {},
   "outputs": [],
   "source": [
    "tool_result = calculate_circle_area.invoke(result.tool_calls[0])"
   ]
  },
  {
   "cell_type": "code",
   "execution_count": 120,
   "id": "a3fa6837",
   "metadata": {},
   "outputs": [
    {
     "data": {
      "text/plain": [
       "ToolMessage(content='The Area of the circle for given radius is: 314.16', name='calculate_circle_area', tool_call_id='call_3mdFnCiMvswdy9v9XaQNxwYC')"
      ]
     },
     "execution_count": 120,
     "metadata": {},
     "output_type": "execute_result"
    }
   ],
   "source": [
    "tool_result"
   ]
  },
  {
   "cell_type": "code",
   "execution_count": 121,
   "id": "f0aa8887",
   "metadata": {},
   "outputs": [],
   "source": [
    "message.append(tool_result)"
   ]
  },
  {
   "cell_type": "code",
   "execution_count": 122,
   "id": "30778f0f",
   "metadata": {},
   "outputs": [
    {
     "data": {
      "text/plain": [
       "[HumanMessage(content='Find the area of the circle with radius 10', additional_kwargs={}, response_metadata={}),\n",
       " AIMessage(content='', additional_kwargs={'tool_calls': [{'id': 'call_3mdFnCiMvswdy9v9XaQNxwYC', 'function': {'arguments': '{\"radius\":10}', 'name': 'calculate_circle_area'}, 'type': 'function'}], 'refusal': None}, response_metadata={'token_usage': {'completion_tokens': 216, 'prompt_tokens': 157, 'total_tokens': 373, 'completion_tokens_details': {'accepted_prediction_tokens': 0, 'audio_tokens': 0, 'reasoning_tokens': 192, 'rejected_prediction_tokens': 0}, 'prompt_tokens_details': {'audio_tokens': 0, 'cached_tokens': 0}}, 'model_name': 'gpt-5-nano-2025-08-07', 'system_fingerprint': None, 'id': 'chatcmpl-CRj05ZQXtPAAkWG8TP56dIY0AsP6q', 'service_tier': 'default', 'finish_reason': 'tool_calls', 'logprobs': None}, id='run--06637bee-7a33-4a81-b92a-d28a9cfbfe15-0', tool_calls=[{'name': 'calculate_circle_area', 'args': {'radius': 10}, 'id': 'call_3mdFnCiMvswdy9v9XaQNxwYC', 'type': 'tool_call'}], usage_metadata={'input_tokens': 157, 'output_tokens': 216, 'total_tokens': 373, 'input_token_details': {'audio': 0, 'cache_read': 0}, 'output_token_details': {'audio': 0, 'reasoning': 192}}),\n",
       " ToolMessage(content='The Area of the circle for given radius is: 314.16', name='calculate_circle_area', tool_call_id='call_3mdFnCiMvswdy9v9XaQNxwYC')]"
      ]
     },
     "execution_count": 122,
     "metadata": {},
     "output_type": "execute_result"
    }
   ],
   "source": [
    "message"
   ]
  },
  {
   "cell_type": "code",
   "execution_count": 123,
   "id": "762c7c70",
   "metadata": {},
   "outputs": [],
   "source": [
    "# for i, m in enumerate(message):\n",
    "#     print({i+1})\n",
    "#     print(m)"
   ]
  },
  {
   "cell_type": "code",
   "execution_count": 125,
   "id": "11d58a69",
   "metadata": {},
   "outputs": [
    {
     "data": {
      "text/plain": [
       "'Area = πr^2 = π(10)^2 = 100π ≈ 314.159... ≈ 314.16 square units.'"
      ]
     },
     "execution_count": 125,
     "metadata": {},
     "output_type": "execute_result"
    }
   ],
   "source": [
    "llm_with_tool.invoke(message).content"
   ]
  },
  {
   "cell_type": "code",
   "execution_count": null,
   "id": "771dfef0",
   "metadata": {},
   "outputs": [],
   "source": []
  }
 ],
 "metadata": {
  "kernelspec": {
   "display_name": "my_env",
   "language": "python",
   "name": "python3"
  },
  "language_info": {
   "codemirror_mode": {
    "name": "ipython",
    "version": 3
   },
   "file_extension": ".py",
   "mimetype": "text/x-python",
   "name": "python",
   "nbconvert_exporter": "python",
   "pygments_lexer": "ipython3",
   "version": "3.12.1"
  }
 },
 "nbformat": 4,
 "nbformat_minor": 5
}
